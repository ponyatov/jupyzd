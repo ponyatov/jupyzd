{
 "cells": [
  {
   "cell_type": "markdown",
   "metadata": {},
   "source": [
    "# Embedded system development"
   ]
  },
  {
   "cell_type": "markdown",
   "metadata": {},
   "source": [
    "* designed for [embedded systems](embedded.ipynb)s (meta)programming\n",
    "  * via [[code generation]] into mainstream production languages:\n",
    "    * [emC](emC.ipynb): C and a very limited C++\n",
    "    * [IoT](IoT.ipynb) specific\n",
    "      * [Java](Java.ipynb)\n",
    "  * hardware\n",
    "    * [microcontrollers](MCU.ipynb)\n",
    "      * [CortexM](CortexM.ipynb) (STM32,..)\n",
    "      * [MSP430](MSP430.ipynb)\n",
    "      * [AVR8](AVR8.ipynb) Arduino legacy\n",
    "    * [embedded Linux](emLinux.ipynb)\n",
    "  * cross-compiler toolchains\n",
    "    * [[GNU]]\n",
    "    * [[IAR]]\n",
    "    * [[LLVM]]"
   ]
  },
  {
   "cell_type": "markdown",
   "metadata": {},
   "source": [
    "[metaL](metaL.ipynb) especially targets on implementing adaptive metamodel for firmware\n",
    "development for widely used microcontroller families and making small software\n",
    "for devices built using Linux as an embedded OS."
   ]
  },
  {
   "cell_type": "markdown",
   "metadata": {},
   "source": [
    "Embedded development has a huge limitation on computing power and resources,\n",
    "especially the size of RAM can be less than 1K (!). These limitations make\n",
    "software prototyping with any dynamic and interpreter languages totally unusable\n",
    "if not say impossible."
   ]
  },
  {
   "cell_type": "markdown",
   "metadata": {},
   "source": [
    "On the other side, even \\cpp\\ can be unavailable for use not only due to huge\n",
    "limitations but also avoided by security requirements for mission-critical\n",
    "systems (MISRA and internal vendor standards). Also, I worked with a some of\n",
    "PHP-infected teams totally prohibits OOP by ideo..logical considerations.\n",
    "Speaking seriously, embedded \\cpp\\ requires very skilled programmers understands\n",
    "how memory management works, able to write custom allocators, knows what is copy\n",
    "constructor, and how to avoid unneeded dynamic memory allocations all over the\n",
    "code. These developers have huge hiring prices comparing to student plankton,\n",
    "which forces certain employee and administrative conclusions."
   ]
  }
 ],
 "metadata": {
  "kernelspec": {
   "display_name": "Python 3",
   "language": "python",
   "name": "python3"
  },
  "language_info": {
   "codemirror_mode": {
    "name": "ipython",
    "version": 3
   },
   "file_extension": ".py",
   "mimetype": "text/x-python",
   "name": "python",
   "nbconvert_exporter": "python",
   "pygments_lexer": "ipython3",
   "version": "3.5.3"
  }
 },
 "nbformat": 4,
 "nbformat_minor": 2
}
