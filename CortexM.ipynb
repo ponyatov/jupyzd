{
 "cells": [
  {
   "cell_type": "markdown",
   "metadata": {},
   "source": [
    "# ARM Cortex-M"
   ]
  },
  {
   "cell_type": "markdown",
   "metadata": {},
   "source": [
    "Most powerful, cheap and universal microcontroller series are Cortex-M variants\n",
    "which are produced by all semiconductor manufacturers. Most well-known and the\n",
    "widely available vendor is STMicro with its large STM32F product line from\n",
    "cheapest you can ever find [STM32F030F4P6](STM32F030F4P6.ipynb) to powerful STM32G7\n",
    "chips."
   ]
  }
 ],
 "metadata": {
  "kernelspec": {
   "display_name": "Python 3",
   "language": "python",
   "name": "python3"
  },
  "language_info": {
   "codemirror_mode": {
    "name": "ipython",
    "version": 3
   },
   "file_extension": ".py",
   "mimetype": "text/x-python",
   "name": "python",
   "nbconvert_exporter": "python",
   "pygments_lexer": "ipython3",
   "version": "3.5.3"
  }
 },
 "nbformat": 4,
 "nbformat_minor": 2
}
