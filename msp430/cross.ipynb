{
 "cells": [
  {
   "cell_type": "markdown",
   "metadata": {},
   "source": [
    "# building MSP430 cross-compiler GNU toolchain"
   ]
  },
  {
   "cell_type": "markdown",
   "metadata": {},
   "source": [
    "first look on root [building cross-compiler GNU toolchain](../cross/cross.ipynb)"
   ]
  },
  {
   "cell_type": "markdown",
   "metadata": {},
   "source": [
    "run build out of tree with redefining target hardware board:"
   ]
  },
  {
   "cell_type": "code",
   "execution_count": 3,
   "metadata": {},
   "outputs": [],
   "source": [
    "%%sh\n",
    "# cd msp430 ; make -f ../cross/Makefile HW=msp430g2"
   ]
  },
  {
   "cell_type": "code",
   "execution_count": 12,
   "metadata": {},
   "outputs": [
    {
     "name": "stdout",
     "output_type": "stream",
     "text": [
      "итого 105516\n",
      "drwxr-xr-x 2 ponyatov ponyatov     4096 май 29 22:32 .\n",
      "drwxr-xr-x 7 ponyatov ponyatov     4096 май 29 22:33 ..\n",
      "-rwxr-xr-x 1 ponyatov ponyatov   819504 май 29 22:29 msp430-addr2line\n",
      "-rwxr-xr-x 2 ponyatov ponyatov   847928 май 29 22:29 msp430-ar\n",
      "-rwxr-xr-x 2 ponyatov ponyatov  1137856 май 29 22:29 msp430-as\n",
      "-rwxr-xr-x 1 ponyatov ponyatov   818992 май 29 22:29 msp430-c++filt\n",
      "-rwxr-xr-x 1 ponyatov ponyatov    31688 май 29 22:29 msp430-elfedit\n",
      "-rwxr-xr-x 1 ponyatov ponyatov 88038392 май 29 22:32 msp430-gdb\n",
      "-rwxr-xr-x 1 ponyatov ponyatov     3270 май 29 22:32 msp430-gdb-add-index\n",
      "-rwxr-xr-x 1 ponyatov ponyatov   886192 май 29 22:29 msp430-gprof\n",
      "-rwxr-xr-x 4 ponyatov ponyatov  1118752 май 29 22:29 msp430-ld\n",
      "-rwxr-xr-x 4 ponyatov ponyatov  1118752 май 29 22:29 msp430-ld.bfd\n",
      "-rwxr-xr-x 2 ponyatov ponyatov   832464 май 29 22:29 msp430-nm\n",
      "-rwxr-xr-x 2 ponyatov ponyatov   958416 май 29 22:29 msp430-objcopy\n",
      "-rwxr-xr-x 2 ponyatov ponyatov  1152080 май 29 22:29 msp430-objdump\n",
      "-rwxr-xr-x 2 ponyatov ponyatov   847960 май 29 22:29 msp430-ranlib\n",
      "-rwxr-xr-x 2 ponyatov ponyatov   617584 май 29 22:29 msp430-readelf\n",
      "-rwxr-xr-x 1 ponyatov ponyatov  6169688 май 29 22:32 msp430-run\n",
      "-rwxr-xr-x 1 ponyatov ponyatov   819248 май 29 22:29 msp430-size\n",
      "-rwxr-xr-x 1 ponyatov ponyatov   819376 май 29 22:29 msp430-strings\n",
      "-rwxr-xr-x 2 ponyatov ponyatov   958416 май 29 22:29 msp430-strip\n"
     ]
    }
   ],
   "source": [
    "%%sh\n",
    "ls -la msp430/bin"
   ]
  },
  {
   "cell_type": "code",
   "execution_count": 11,
   "metadata": {},
   "outputs": [
    {
     "name": "stdout",
     "output_type": "stream",
     "text": [
      "Overwriting .gitignore\n"
     ]
    }
   ],
   "source": [
    "%%writefile .gitignore\n",
    "tmp/\n",
    "msp430/"
   ]
  }
 ],
 "metadata": {
  "kernelspec": {
   "display_name": "Python 3",
   "language": "python",
   "name": "python3"
  },
  "language_info": {
   "codemirror_mode": {
    "name": "ipython",
    "version": 3
   },
   "file_extension": ".py",
   "mimetype": "text/x-python",
   "name": "python",
   "nbconvert_exporter": "python",
   "pygments_lexer": "ipython3",
   "version": "3.5.3"
  }
 },
 "nbformat": 4,
 "nbformat_minor": 2
}
