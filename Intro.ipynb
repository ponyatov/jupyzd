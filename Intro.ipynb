{
 "cells": [
  {
   "cell_type": "markdown",
   "metadata": {},
   "source": [
    "# Intro"
   ]
  },
  {
   "cell_type": "markdown",
   "metadata": {},
   "source": [
    "These notes use Jupyter notebooks as a documentation format about implementing [metaprogramming] and [EDS] model approach to embedded systems development. It uses Marvin [Minsky] frame model both as a core knowledge representation and generic computational model."
   ]
  },
  {
   "cell_type": "markdown",
   "metadata": {},
   "source": [
    "\\secly{Intro}\n",
    "\n",
    "Embedded \\emc\\ language\\note{C and a very limited \\cpp} is too low-level but\n",
    "required for embedded programming, and its use is forced by company policy. You\n",
    "know about Rust language are promoted as a replacement of C++ for embedded\n",
    "programming, but you can't use it as the only ANSI C is legal in your company\n",
    "and working team. And you can't avoid this requirement, but also in some cases\n",
    "you'll be faced that C++ is also prohibited for use with very little MCU-based\n",
    "devices or legacy code.\n",
    "\n",
    "These notes provide some solution and approach to making software development in\n",
    "any programming language and toolchain using Python. It can be formulated as:\n",
    "\\begin{framed}\\noindent\\centering\\LARGE\n",
    "write in any programming language in Python\n",
    "\\end{framed}\n",
    "You can follow this method with any other high-level \\term{host language} you\n",
    "want: Scala, Haskell, Java,.. or even create your own DSL language for tasks you\n",
    "are solving personally. That's the idea of using \\term{generative\n",
    "metaprogramming}: you can use your favorite language as higher level as you can,\n",
    "to generate low-level C, or maybe use even less lowlevel LLVM as your's custom\n",
    "compiler backend.\n",
    "\n",
    "\\clearpage\n",
    "\\emph{You should also be warned that this method has two main disadvantages}.\n",
    "First, \\textbf{this method only can be applied to projects which looks like a\n",
    "bunch of interconnected code templates}. If you do something very repeatable\n",
    "every day, coping your code snippets again and again, here's the point where\n",
    "this method tends to work well. In case you mostly write new code than reuse\n",
    "your old one, it is much much simpler just to use manual coding and classical\n",
    "copy and paste.\n",
    "\n",
    "Here we found the second problem: \\textbf{generative metaprogramming has an\n",
    "extra steep learning curve}. Factically you must reimplement the whole\n",
    "metaprogramming framework from scratch adapting it to your own needs off the\n",
    "roots. The more complex methods you are using, and the more cryptic the\n",
    "programming language you are targeting your code generator, this complexity\n",
    "rises more and more.\n"
   ]
  }
 ],
 "metadata": {
  "kernelspec": {
   "display_name": "Python 3",
   "language": "python",
   "name": "python3"
  },
  "language_info": {
   "codemirror_mode": {
    "name": "ipython",
    "version": 3
   },
   "file_extension": ".py",
   "mimetype": "text/x-python",
   "name": "python",
   "nbconvert_exporter": "python",
   "pygments_lexer": "ipython3",
   "version": "3.5.3"
  }
 },
 "nbformat": 4,
 "nbformat_minor": 2
}
