{
 "cells": [
  {
   "cell_type": "markdown",
   "metadata": {},
   "source": [
    "# Intro"
   ]
  },
  {
   "cell_type": "markdown",
   "metadata": {},
   "source": [
    "These notes use Jupyter notebooks as a documentation format about implementing [metaprogramming](metaprogramming.ipynb) and [EDS](EDS.ipynb) model approach to embedded systems development. It uses Marvin [Minsky](Minsky.ipynb) frame model both as a core knowledge representation and generic computational model."
   ]
  },
  {
   "cell_type": "markdown",
   "metadata": {},
   "source": [
    "### What's wrong with Jupyter notebooks, literate programming and a whole view on programming"
   ]
  },
  {
   "cell_type": "markdown",
   "metadata": {},
   "source": [
    "Notebooks with its origin the Donald Knuth's **literate programming** are known many many years ago, and LP was thrown away with one important reason: it forces sequential documentation writing following the program logic. Documentation can't be done such a way by fully following the code: some code must be described in one place, then the other part of same code must be described much later. As an example, look on [this sample](Frame.ipynb): I was forced to use self-inheritance just to divide two parts of description: main object logic, and its printing in the next part of the manual."
   ]
  },
  {
   "cell_type": "markdown",
   "metadata": {},
   "source": [
    "That's what I am speaking about: any documentation and any part of software source code principally can't be written in a linear book-like way, they are knowledge. Speaking more wildly, **any knowledge it not sequential in principle**. If you try to write even a little paper you'll feel yourself in trouble thinking about how can you linearize your thinking and write it sequentially on the paper. The closest model to natural knowledge representation tends to be hypergraph of semantic elements or frames which I used here, but definitely not any kind of the text."
   ]
  },
  {
   "cell_type": "markdown",
   "metadata": {},
   "source": [
    "Another inexplicable thing which I totally can't understand: why last 40 years (!) of applied computer science all CS-affiliated people do not see that sequential programming etched into developers thinking is an unbreakable dead wall. The problem of making a fully parallel computation model atop of the single processor was successfully resolved decades (!) ago, but we still stay with idiotic sequential programming languages. Clusters of a cheap computer (not speaking about multiprocessor systems) became available for anybody starting from 2000ths, why the hell we still not use an asynchronous message passing between actors as the main computing paradigm !?"
   ]
  },
  {
   "cell_type": "markdown",
   "metadata": {},
   "source": [
    "## [Embedded system](embedded.ipynb) development via metaprogramming"
   ]
  },
  {
   "cell_type": "markdown",
   "metadata": {},
   "source": [
    "Embedded [emC](emC.ipynb) language (C and a very limited C++) is too low-level but\n",
    "required for embedded programming, and its use is forced by company policy. You\n",
    "know about Rust language are promoted as a replacement of C++ for embedded\n",
    "programming, but you can't use it as the only ANSI C is legal in your company\n",
    "and working team. And you can't avoid this requirement, but also in some cases\n",
    "you'll be faced that C++ is also prohibited for use with very little MCU-based\n",
    "devices or legacy code.\n"
   ]
  },
  {
   "cell_type": "markdown",
   "metadata": {},
   "source": [
    "These notes provide some solution and approach to making software development in\n",
    "any programming language and toolchain using Python. It can be formulated as:\n",
    "\\begin{framed}\n",
    "write in any programming language in Python\n",
    "\\end{framed}"
   ]
  },
  {
   "cell_type": "markdown",
   "metadata": {},
   "source": [
    "You can follow this method with any other high-level \\term{host language} you\n",
    "want: Scala, Haskell, Java,.. or even create your own DSL language for tasks you\n",
    "are solving personally. That's the idea of using \\term{generative\n",
    "metaprogramming}: you can use your favorite language as higher level as you can,\n",
    "to generate low-level C, or maybe use even less lowlevel [LLVM](LLVM.ipynb) as your's custom\n",
    "compiler backend.\n"
   ]
  },
  {
   "cell_type": "markdown",
   "metadata": {},
   "source": [
    "\\emph{You should also be warned that this method has two main disadvantages}.\n",
    "First, \\textbf{this method only can be applied to projects which looks like a\n",
    "bunch of interconnected code templates}. If you do something very repeatable\n",
    "every day, coping your code snippets again and again, here's the point where\n",
    "this method tends to work well. In case you mostly write new code than reuse\n",
    "your old one, it is much much simpler just to use manual coding and classical\n",
    "copy and paste."
   ]
  },
  {
   "cell_type": "markdown",
   "metadata": {},
   "source": [
    "Here we found the second problem: \\textbf{generative metaprogramming has an\n",
    "extra steep learning curve}. Factically you must reimplement the whole\n",
    "metaprogramming framework from scratch adapting it to your own needs off the\n",
    "roots. The more complex methods you are using, and the more cryptic the\n",
    "programming language you are targeting your code generator, this complexity\n",
    "rises more and more."
   ]
  },
  {
   "cell_type": "markdown",
   "metadata": {},
   "source": [
    "\n",
    "\n",
    "\n"
   ]
  }
 ],
 "metadata": {
  "kernelspec": {
   "display_name": "Python 3",
   "language": "python",
   "name": "python3"
  },
  "language_info": {
   "codemirror_mode": {
    "name": "ipython",
    "version": 3
   },
   "file_extension": ".py",
   "mimetype": "text/x-python",
   "name": "python",
   "nbconvert_exporter": "python",
   "pygments_lexer": "ipython3",
   "version": "3.5.3"
  }
 },
 "nbformat": 4,
 "nbformat_minor": 2
}
