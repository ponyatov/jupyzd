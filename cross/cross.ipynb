{
 "cells": [
  {
   "cell_type": "markdown",
   "metadata": {},
   "source": [
    "# building cross-compiler GNU toolchain"
   ]
  },
  {
   "cell_type": "markdown",
   "metadata": {},
   "source": [
    "Cross-compiler build is going using GNU [make](make.ipynb) tool, which is the minimal and still powerful automation tool for build control."
   ]
  },
  {
   "cell_type": "markdown",
   "metadata": {},
   "source": [
    "## target system configuration"
   ]
  },
  {
   "cell_type": "markdown",
   "metadata": {},
   "source": [
    "configuration variables can be overriden in a command line:\n",
    "```\n",
    "cd msp430 ; make -f ../cross APP=cnc HW=pc104 TARGET=i686 binutils\n",
    "```"
   ]
  },
  {
   "cell_type": "markdown",
   "metadata": {},
   "source": [
    "### application"
   ]
  },
  {
   "cell_type": "code",
   "execution_count": 30,
   "metadata": {},
   "outputs": [
    {
     "name": "stdout",
     "output_type": "stream",
     "text": [
      "Overwriting Makefile\n"
     ]
    }
   ],
   "source": [
    "%%writefile Makefile\n",
    "\n",
    "APP    ?= blink"
   ]
  },
  {
   "cell_type": "markdown",
   "metadata": {},
   "source": [
    "### hardware device"
   ]
  },
  {
   "cell_type": "markdown",
   "metadata": {},
   "source": [
    "Hardware device you are targetting, must be used for lot of configuration: GPIO ports, peripherial pingout,.."
   ]
  },
  {
   "cell_type": "markdown",
   "metadata": {},
   "source": [
    "* `HW`\n",
    "  * [msp430g2]()\n",
    "  * [cm0pill]()\n",
    "  * [cm1pill]()"
   ]
  },
  {
   "cell_type": "code",
   "execution_count": 31,
   "metadata": {},
   "outputs": [
    {
     "name": "stdout",
     "output_type": "stream",
     "text": [
      "Appending to Makefile\n"
     ]
    }
   ],
   "source": [
    "%%writefile -a Makefile\n",
    "\n",
    "HW     ?= msp430g2"
   ]
  },
  {
   "cell_type": "markdown",
   "metadata": {},
   "source": [
    "### target MCU/CPU/OS triplet"
   ]
  },
  {
   "cell_type": "markdown",
   "metadata": {},
   "source": [
    "* `BUILD`\n",
    "  - system name of your workstation OS in form of **system triplet**\n",
    "    - `x86_64-pc-linux-gnu`\n",
    "* `HOST`\n",
    "  - triplet of OS on which package will run\n",
    "    * for MCU targets we'll drop it using `HOST=BUILD`\n",
    "* `TARGET`\n",
    "  - triplet of MCU target\n",
    "    * [msp430](msp430.ipynb) MSP430\n",
    "    * [arm-none-eabi](arm-none-eabi.ipynb) Cortex-M\n",
    "    * [i486-elf](i486-elf.ipynb) PC104 VortexSX/DX"
   ]
  },
  {
   "cell_type": "code",
   "execution_count": 32,
   "metadata": {},
   "outputs": [
    {
     "name": "stdout",
     "output_type": "stream",
     "text": [
      "Appending to Makefile\n"
     ]
    }
   ],
   "source": [
    "%%writefile -a Makefile\n",
    "\n",
    "-include  hw/$(HW)\n",
    "-include cpu/$(CPU)"
   ]
  },
  {
   "cell_type": "code",
   "execution_count": 33,
   "metadata": {},
   "outputs": [
    {
     "name": "stdout",
     "output_type": "stream",
     "text": [
      "Overwriting hw/msp430g2\n"
     ]
    }
   ],
   "source": [
    "%%writefile hw/msp430g2\n",
    "\n",
    "CPU    ?= msp430f2553"
   ]
  },
  {
   "cell_type": "code",
   "execution_count": 34,
   "metadata": {},
   "outputs": [
    {
     "name": "stdout",
     "output_type": "stream",
     "text": [
      "Overwriting cpu/msp430f2553\n"
     ]
    }
   ],
   "source": [
    "%%writefile cpu/msp430f2553\n",
    "\n",
    "TARGET ?= msp430"
   ]
  },
  {
   "cell_type": "markdown",
   "metadata": {},
   "source": [
    "## directory structure"
   ]
  },
  {
   "cell_type": "markdown",
   "metadata": {},
   "source": [
    "* `Makefile`\n",
    "* `hw/` hardware boards CPU & peripherials and specific tools defines\n",
    "* `cpu/` CPU/MCU definitions"
   ]
  },
  {
   "cell_type": "markdown",
   "metadata": {},
   "source": [
    "This set of directories will be created \n",
    "\n",
    "* `CWD` in the same dir as `Makefile` itself or directory selected by `make -C` option\n",
    "* `GZ` downloaded archives\n",
    "* `TMP` temp build directory\n",
    "* `SRC` source code for every tool will be built\n",
    "* `GNU` all compilers and tools will be pushed locally into this directory\n",
    "  - such a scheme will not affect to whole `BUILD`/`HOST` system, all toolds will reside in a user `HOME`"
   ]
  },
  {
   "cell_type": "code",
   "execution_count": 35,
   "metadata": {},
   "outputs": [
    {
     "name": "stdout",
     "output_type": "stream",
     "text": [
      "Appending to Makefile\n"
     ]
    }
   ],
   "source": [
    "%%writefile -a Makefile\n",
    "\n",
    "CWD = $(CURDIR)\n",
    "GZ  = $(HOME)/gz\n",
    "TMP = $(CWD)/tmp\n",
    "SRC = $(TMP)/src\n",
    "GNU = $(CWD)/$(TARGET)"
   ]
  },
  {
   "cell_type": "code",
   "execution_count": 36,
   "metadata": {},
   "outputs": [
    {
     "name": "stdout",
     "output_type": "stream",
     "text": [
      "Appending to Makefile\n"
     ]
    }
   ],
   "source": [
    "%%writefile -a Makefile\n",
    "\n",
    "all: dirs gz binutils gdb"
   ]
  },
  {
   "cell_type": "code",
   "execution_count": 37,
   "metadata": {},
   "outputs": [
    {
     "name": "stdout",
     "output_type": "stream",
     "text": [
      "Appending to Makefile\n"
     ]
    }
   ],
   "source": [
    "%%writefile -a Makefile\n",
    "\n",
    "dirs:\n",
    "\tmkdir -p $(GZ) $(TMP) $(SRC) $(GNU)"
   ]
  },
  {
   "cell_type": "code",
   "execution_count": 38,
   "metadata": {},
   "outputs": [
    {
     "name": "stdout",
     "output_type": "stream",
     "text": [
      "Overwriting .gitignore\n"
     ]
    }
   ],
   "source": [
    "%%writefile .gitignore\n",
    "*~\n",
    "*.swp\n",
    "tmp/\n",
    "msp430/"
   ]
  },
  {
   "cell_type": "code",
   "execution_count": 39,
   "metadata": {},
   "outputs": [
    {
     "name": "stdout",
     "output_type": "stream",
     "text": [
      "mkdir -p /home/ponyatov/gz /home/ponyatov/jupy/cross/tmp /home/ponyatov/jupy/cross/tmp/src /home/ponyatov/jupy/cross/msp430\n",
      "итого 56\n",
      "drwxr-xr-x  7 ponyatov ponyatov  4096 май 29 21:56 .\n",
      "drwxr-xr-x 12 ponyatov ponyatov  4096 май 29 21:43 ..\n",
      "drwxr-xr-x  2 ponyatov ponyatov  4096 май 29 21:12 cpu\n",
      "-rw-r--r--  1 ponyatov ponyatov 18259 май 29 21:56 cross.ipynb\n",
      "-rw-r--r--  1 ponyatov ponyatov    22 май 29 21:58 .gitignore\n",
      "drwxr-xr-x  3 ponyatov ponyatov  4096 май 29 21:12 hw\n",
      "drwxr-xr-x  2 ponyatov ponyatov  4096 май 29 21:46 .ipynb_checkpoints\n",
      "-rw-r--r--  1 ponyatov ponyatov   239 май 29 21:58 Makefile\n",
      "drwxr-xr-x  7 ponyatov ponyatov  4096 май 29 21:58 msp430\n",
      "drwxr-xr-x  5 ponyatov ponyatov  4096 май 29 21:54 tmp\n",
      "итого 20\n",
      "drwxr-xr-x  5 ponyatov ponyatov 4096 май 29 21:54 .\n",
      "drwxr-xr-x  7 ponyatov ponyatov 4096 май 29 21:56 ..\n",
      "drwxr-xr-x 12 ponyatov ponyatov 4096 май 29 21:40 binutils-2.32\n",
      "drwxr-xr-x 12 ponyatov ponyatov 4096 май 29 21:55 gdb-8.3\n",
      "drwxr-xr-x  4 ponyatov ponyatov 4096 май 29 21:41 src\n"
     ]
    }
   ],
   "source": [
    "%%sh\n",
    "make dirs ; ls -la ; ls -la tmp"
   ]
  },
  {
   "cell_type": "markdown",
   "metadata": {},
   "source": [
    "## cross-compiler components"
   ]
  },
  {
   "cell_type": "markdown",
   "metadata": {},
   "source": [
    "* `binutils` assembler, linker, object file tools\n",
    "* `gdb` debugger\n",
    "* `gcc` C/C++ compiler\n",
    "  * `gmp` \\ libraries\n",
    "  * `mpfr`  required for\n",
    "  * `mpc` / gcc build"
   ]
  },
  {
   "cell_type": "markdown",
   "metadata": {},
   "source": [
    "## versions"
   ]
  },
  {
   "cell_type": "code",
   "execution_count": 40,
   "metadata": {},
   "outputs": [
    {
     "name": "stdout",
     "output_type": "stream",
     "text": [
      "Appending to Makefile\n"
     ]
    }
   ],
   "source": [
    "%%writefile -a Makefile\n",
    "\n",
    "BINUTILS_VER = 2.32\n",
    "GDB_VER      = 8.3"
   ]
  },
  {
   "cell_type": "code",
   "execution_count": 41,
   "metadata": {},
   "outputs": [
    {
     "name": "stdout",
     "output_type": "stream",
     "text": [
      "Appending to Makefile\n"
     ]
    }
   ],
   "source": [
    "%%writefile -a Makefile\n",
    "\n",
    "BINUTILS = binutils-$(BINUTILS_VER)\n",
    "GDB      = gdb-$(GDB_VER)"
   ]
  },
  {
   "cell_type": "markdown",
   "metadata": {},
   "source": [
    "## predownload all archives"
   ]
  },
  {
   "cell_type": "code",
   "execution_count": 42,
   "metadata": {},
   "outputs": [
    {
     "name": "stdout",
     "output_type": "stream",
     "text": [
      "Appending to Makefile\n"
     ]
    }
   ],
   "source": [
    "%%writefile -a Makefile\n",
    "\n",
    "BINUTILS_GZ = $(BINUTILS).tar.xz\n",
    "GDB_GZ      = $(GDB).tar.xz"
   ]
  },
  {
   "cell_type": "code",
   "execution_count": 43,
   "metadata": {},
   "outputs": [
    {
     "name": "stdout",
     "output_type": "stream",
     "text": [
      "Appending to Makefile\n"
     ]
    }
   ],
   "source": [
    "%%writefile -a Makefile\n",
    "\n",
    "WGET = wget -c -P $(GZ) -q\n",
    "\n",
    "gz: $(GZ)/$(BINUTILS_GZ) $(GZ)/$(GDB_GZ)"
   ]
  },
  {
   "cell_type": "code",
   "execution_count": 44,
   "metadata": {},
   "outputs": [
    {
     "name": "stdout",
     "output_type": "stream",
     "text": [
      "make: Цель «gz» не требует выполнения команд.\n",
      "итого 40316\n",
      "drwxr-xr-x   2 ponyatov ponyatov     4096 май 29 21:37 .\n",
      "drwxr-xr-x 181 ponyatov ponyatov    12288 май 29 21:13 ..\n",
      "-rw-r--r--   1 ponyatov ponyatov 20774880 фев  2 20:38 binutils-2.32.tar.xz\n",
      "-rw-r--r--   1 ponyatov ponyatov 20490300 май 11 22:47 gdb-8.3.tar.xz\n",
      "-rw-r--r--   1 ponyatov ponyatov        0 окт 13  2017 .gitkeep\n"
     ]
    }
   ],
   "source": [
    "%%sh\n",
    "make gz ; ls -la ~/gz"
   ]
  },
  {
   "cell_type": "markdown",
   "metadata": {},
   "source": [
    "### archive unpack rules"
   ]
  },
  {
   "cell_type": "code",
   "execution_count": 45,
   "metadata": {},
   "outputs": [
    {
     "name": "stdout",
     "output_type": "stream",
     "text": [
      "Appending to Makefile\n"
     ]
    }
   ],
   "source": [
    "%%writefile -a Makefile\n",
    "\n",
    "$(SRC)/%/README: $(GZ)/%.tar.xz\n",
    "\tcd $(SRC) ; xzcat $< | tar -x && touch $@"
   ]
  },
  {
   "cell_type": "markdown",
   "metadata": {},
   "source": [
    "### configure scripts run"
   ]
  },
  {
   "cell_type": "code",
   "execution_count": 46,
   "metadata": {},
   "outputs": [
    {
     "name": "stdout",
     "output_type": "stream",
     "text": [
      "Appending to Makefile\n"
     ]
    }
   ],
   "source": [
    "%%writefile -a Makefile\n",
    "\n",
    "XPATH = PATH=$(GNU)/bin:$(PATH)\n",
    "\n",
    "CFG = configure --disable-nls --prefix=$(GNU)\n",
    "\n",
    "MAKE = $(XPATH) make"
   ]
  },
  {
   "cell_type": "markdown",
   "metadata": {},
   "source": [
    "most components can be built with use of full power of your computer, but `gcc` build can't be done in parallel even on i7/6G so `make gcc0` **will be run in single process** -- run in in background, and do some useful work while building: read docs, take a rest with tee, etc"
   ]
  },
  {
   "cell_type": "code",
   "execution_count": 47,
   "metadata": {},
   "outputs": [
    {
     "name": "stdout",
     "output_type": "stream",
     "text": [
      "Appending to Makefile\n"
     ]
    }
   ],
   "source": [
    "%%writefile -a Makefile\n",
    "\n",
    "CPU_CORES = $(shell grep processor /proc/cpuinfo|wc -l)\n",
    "\n",
    "MAKEJ = $(MAKE) -j$(CPU_CORES)"
   ]
  },
  {
   "cell_type": "markdown",
   "metadata": {},
   "source": [
    "### [binutils](binutils.ipynb) : assembler, linker, object file tools"
   ]
  },
  {
   "cell_type": "code",
   "execution_count": 48,
   "metadata": {},
   "outputs": [
    {
     "name": "stdout",
     "output_type": "stream",
     "text": [
      "Appending to Makefile\n"
     ]
    }
   ],
   "source": [
    "%%writefile -a Makefile\n",
    "\n",
    "binutils: $(GNU)/bin/$(TARGET)-ld\n",
    "\n",
    "CFG_BINUTILS += --target=$(TARGET)\n",
    "\n",
    "$(GNU)/bin/$(TARGET)-ld: $(GZ)/$(BINUTILS_GZ) $(SRC)/$(BINUTILS)/README\n",
    "\trm -rf $(TMP)/$(BINUTILS) ; mkdir $(TMP)/$(BINUTILS) ; cd $(TMP)/$(BINUTILS) ;\\\n",
    "\t$(XPATH) $(SRC)/$(BINUTILS)/$(CFG) $(CFG_BINUTILS) && $(MAKEJ) && $(MAKE) install-strip\n",
    "\n",
    "$(GZ)/$(BINUTILS_GZ):\n",
    "\t$(WGET) https://mirror.tochlab.net/pub/gnu/binutils/$(BINUTILS_GZ)"
   ]
  },
  {
   "cell_type": "code",
   "execution_count": 49,
   "metadata": {},
   "outputs": [
    {
     "name": "stdout",
     "output_type": "stream",
     "text": [
      "make: Цель «binutils» не требует выполнения команд.\n",
      "msp430/bin:\n",
      "итого 105512\n",
      "drwxr-xr-x 2 ponyatov ponyatov     4096 май 29 21:58 .\n",
      "drwxr-xr-x 7 ponyatov ponyatov     4096 май 29 21:58 ..\n",
      "-rwxr-xr-x 1 ponyatov ponyatov   819504 май 29 21:41 msp430-addr2line\n",
      "-rwxr-xr-x 2 ponyatov ponyatov   847928 май 29 21:41 msp430-ar\n",
      "-rwxr-xr-x 2 ponyatov ponyatov  1137856 май 29 21:41 msp430-as\n",
      "-rwxr-xr-x 1 ponyatov ponyatov   818992 май 29 21:41 msp430-c++filt\n",
      "-rwxr-xr-x 1 ponyatov ponyatov    31688 май 29 21:41 msp430-elfedit\n",
      "-rwxr-xr-x 1 ponyatov ponyatov 88035616 май 29 21:58 msp430-gdb\n",
      "-rwxr-xr-x 1 ponyatov ponyatov     3270 май 29 21:58 msp430-gdb-add-index\n",
      "-rwxr-xr-x 1 ponyatov ponyatov   886192 май 29 21:41 msp430-gprof\n",
      "-rwxr-xr-x 4 ponyatov ponyatov  1118752 май 29 21:41 msp430-ld\n",
      "-rwxr-xr-x 4 ponyatov ponyatov  1118752 май 29 21:41 msp430-ld.bfd\n",
      "-rwxr-xr-x 2 ponyatov ponyatov   832464 май 29 21:41 msp430-nm\n",
      "-rwxr-xr-x 2 ponyatov ponyatov   958416 май 29 21:41 msp430-objcopy\n",
      "-rwxr-xr-x 2 ponyatov ponyatov  1147984 май 29 21:41 msp430-objdump\n",
      "-rwxr-xr-x 2 ponyatov ponyatov   847960 май 29 21:41 msp430-ranlib\n",
      "-rwxr-xr-x 2 ponyatov ponyatov   617584 май 29 21:41 msp430-readelf\n",
      "-rwxr-xr-x 1 ponyatov ponyatov  6169296 май 29 21:58 msp430-run\n",
      "-rwxr-xr-x 1 ponyatov ponyatov   819248 май 29 21:41 msp430-size\n",
      "-rwxr-xr-x 1 ponyatov ponyatov   819376 май 29 21:41 msp430-strings\n",
      "-rwxr-xr-x 2 ponyatov ponyatov   958416 май 29 21:41 msp430-strip\n",
      "\n",
      "tmp:\n",
      "итого 20\n",
      "drwxr-xr-x  5 ponyatov ponyatov 4096 май 29 21:54 .\n",
      "drwxr-xr-x  7 ponyatov ponyatov 4096 май 29 21:56 ..\n",
      "drwxr-xr-x 12 ponyatov ponyatov 4096 май 29 21:40 binutils-2.32\n",
      "drwxr-xr-x 12 ponyatov ponyatov 4096 май 29 21:55 gdb-8.3\n",
      "drwxr-xr-x  4 ponyatov ponyatov 4096 май 29 21:41 src\n",
      "\n",
      "tmp/src:\n",
      "итого 16\n",
      "drwxr-xr-x  4 ponyatov ponyatov 4096 май 29 21:41 .\n",
      "drwxr-xr-x  5 ponyatov ponyatov 4096 май 29 21:54 ..\n",
      "drwxr-xr-x 18 ponyatov ponyatov 4096 май 29 21:40 binutils-2.32\n",
      "drwxr-xr-x 17 ponyatov ponyatov 4096 май 29 21:41 gdb-8.3\n"
     ]
    }
   ],
   "source": [
    "%%sh\n",
    "make binutils ; ls -la tmp/src tmp msp430/bin"
   ]
  },
  {
   "cell_type": "markdown",
   "metadata": {},
   "source": [
    "after `make` run `configure` will be run with required options:"
   ]
  },
  {
   "cell_type": "markdown",
   "metadata": {},
   "source": [
    "`/home/dpon/jupy/msp430/tmp/src/binutils-2.32/configure --disable-nls --prefix=/home/user/jupy/msp430 --target=msp430`"
   ]
  },
  {
   "cell_type": "markdown",
   "metadata": {},
   "source": [
    "detecting host/target"
   ]
  },
  {
   "cell_type": "markdown",
   "metadata": {},
   "source": [
    "```\n",
    "checking build system type... x86_64-pc-linux-gnu\n",
    "checking host system type... x86_64-pc-linux-gnu\n",
    "checking target system type... msp430-unknown-none\n",
    "```"
   ]
  },
  {
   "cell_type": "markdown",
   "metadata": {},
   "source": [
    "build requires some preinstalled developmen packages:\n",
    " * `sudo apt install`\n",
    "   - `build-essential` `m4` `wget` `make` `gcc g++` `flex` `bison`\n",
    "   - `xz` `bzip2`\n",
    "   - `bc` `libncurses-dev` only for Linux kernel build"
   ]
  },
  {
   "cell_type": "markdown",
   "metadata": {},
   "source": [
    "```\n",
    "checking for gcc... gcc\n",
    "checking for g++... g++\n",
    "checking for bison... bison\n",
    "checking for m4... m4\n",
    "checking for flex... flex\n",
    "```"
   ]
  },
  {
   "cell_type": "markdown",
   "metadata": {},
   "source": [
    "`make -j4`\n",
    "\n",
    "`make install-strip`"
   ]
  },
  {
   "cell_type": "markdown",
   "metadata": {},
   "source": [
    "### [gdb](gdb.ipynb) : remote hardware debugger"
   ]
  },
  {
   "cell_type": "code",
   "execution_count": 50,
   "metadata": {},
   "outputs": [
    {
     "name": "stdout",
     "output_type": "stream",
     "text": [
      "Appending to Makefile\n"
     ]
    }
   ],
   "source": [
    "%%writefile -a Makefile\n",
    "\n",
    "gdb: $(GNU)/bin/$(TARGET)-gdb\n",
    "\n",
    "CFG_GDB += $(CFG_BINUTILS) --enable-python\n",
    "\n",
    "$(GNU)/bin/$(TARGET)-gdb: $(GZ)/$(GDB_GZ) $(SRC)/$(GDB)/README\n",
    "\trm -rf $(TMP)/$(GDB) ; mkdir $(TMP)/$(GDB) ; cd $(TMP)/$(GDB) ;\\\n",
    "\t$(XPATH) $(SRC)/$(GDB)/$(CFG) $(CFG_GDB) && $(MAKEJ) && $(MAKE) install\n",
    "\n",
    "$(GZ)/$(GDB_GZ):\n",
    "\t$(WGET) http://ftp.gnu.org/gnu/gdb/$(GDB_GZ)"
   ]
  },
  {
   "cell_type": "code",
   "execution_count": 52,
   "metadata": {},
   "outputs": [
    {
     "name": "stdout",
     "output_type": "stream",
     "text": [
      "make: Цель «gdb» не требует выполнения команд.\n",
      "-rwxr-xr-x 1 ponyatov ponyatov 88035616 май 29 21:58 msp430/bin/msp430-gdb\n",
      "-rwxr-xr-x 1 ponyatov ponyatov     3270 май 29 21:58 msp430/bin/msp430-gdb-add-index\n"
     ]
    }
   ],
   "source": [
    "%%sh\n",
    "make gdb ; ls -la msp430/bin/*gdb*"
   ]
  },
  {
   "cell_type": "markdown",
   "metadata": {},
   "source": [
    "## cleaup after build"
   ]
  },
  {
   "cell_type": "code",
   "execution_count": 53,
   "metadata": {},
   "outputs": [
    {
     "name": "stdout",
     "output_type": "stream",
     "text": [
      "Appending to Makefile\n"
     ]
    }
   ],
   "source": [
    "%%writefile -a Makefile\n",
    "\n",
    "clean:\n",
    "\trm -rf $(TMP)\n",
    "\n",
    "distclean: clean\n",
    "\trm -rf $(GNU)"
   ]
  }
 ],
 "metadata": {
  "kernelspec": {
   "display_name": "Python 3",
   "language": "python",
   "name": "python3"
  },
  "language_info": {
   "codemirror_mode": {
    "name": "ipython",
    "version": 3
   },
   "file_extension": ".py",
   "mimetype": "text/x-python",
   "name": "python",
   "nbconvert_exporter": "python",
   "pygments_lexer": "ipython3",
   "version": "3.5.3"
  }
 },
 "nbformat": 4,
 "nbformat_minor": 2
}
