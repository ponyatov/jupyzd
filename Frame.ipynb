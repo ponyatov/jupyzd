{
 "cells": [
  {
   "cell_type": "markdown",
   "metadata": {},
   "source": [
    "# Frame base class"
   ]
  },
  {
   "cell_type": "markdown",
   "metadata": {},
   "source": [
    "The base [Frame](Frame.ipynb) class implements topmost objects in the [Marvin Minsky frame model](Minsky.ipynb)  hierarchies."
   ]
  },
  {
   "cell_type": "code",
   "execution_count": 16,
   "metadata": {},
   "outputs": [],
   "source": [
    "class Frame:\n",
    "    def __init__(self,V):\n",
    "        # class/type tag\n",
    "        self.type = self.__class__.__name__.lower()\n",
    "        # scalar value\n",
    "        self.val  = V\n",
    "        # slots = attributes = associative string-keyed array\n",
    "        self.slot = {}\n",
    "        # nested elements = ordered container = AST = vector = array = stack = queue\n",
    "        self.nest = []"
   ]
  },
  {
   "cell_type": "markdown",
   "metadata": {},
   "source": [
    "For a test we can create classical HelloWorld:"
   ]
  },
  {
   "cell_type": "code",
   "execution_count": 17,
   "metadata": {},
   "outputs": [
    {
     "data": {
      "text/plain": [
       "<__main__.Hello at 0x7fb7e433f588>"
      ]
     },
     "execution_count": 17,
     "metadata": {},
     "output_type": "execute_result"
    }
   ],
   "source": [
    "class Hello(Frame): pass\n",
    "Hello('world')"
   ]
  },
  {
   "cell_type": "markdown",
   "metadata": {},
   "source": [
    "## Print/dump"
   ]
  },
  {
   "cell_type": "markdown",
   "metadata": {},
   "source": [
    "Looks bad, so we need to add printing/dump facility to see any object in a human-readable form:"
   ]
  },
  {
   "cell_type": "code",
   "execution_count": 18,
   "metadata": {},
   "outputs": [],
   "source": [
    "class Hello(Hello):\n",
    "    def __repr__(self):\n",
    "        return self.dump()\n",
    "    def dump(self,depth=0,prefix=''):\n",
    "        tree = self.head(prefix)\n",
    "        return tree\n",
    "    def head(self,prefix=''):\n",
    "        return '%s<%s:%s> @%x' % (prefix, self.type, self.val, id(self))"
   ]
  },
  {
   "cell_type": "code",
   "execution_count": 19,
   "metadata": {},
   "outputs": [
    {
     "data": {
      "text/plain": [
       "<hello:world> @7fb7e433f8d0"
      ]
     },
     "execution_count": 19,
     "metadata": {},
     "output_type": "execute_result"
    }
   ],
   "source": [
    "Hello('world')"
   ]
  },
  {
   "cell_type": "code",
   "execution_count": null,
   "metadata": {},
   "outputs": [],
   "source": []
  }
 ],
 "metadata": {
  "kernelspec": {
   "display_name": "Python 3",
   "language": "python",
   "name": "python3"
  },
  "language_info": {
   "codemirror_mode": {
    "name": "ipython",
    "version": 3
   },
   "file_extension": ".py",
   "mimetype": "text/x-python",
   "name": "python",
   "nbconvert_exporter": "python",
   "pygments_lexer": "ipython3",
   "version": "3.5.3"
  }
 },
 "nbformat": 4,
 "nbformat_minor": 2
}
