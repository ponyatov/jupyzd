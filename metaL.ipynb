{
 "cells": [
  {
   "cell_type": "markdown",
   "metadata": {},
   "source": [
    "# metaL language"
   ]
  },
  {
   "cell_type": "markdown",
   "metadata": {},
   "source": [
    "## homoiconic metaprogramming language /on top of Python/"
   ]
  },
  {
   "cell_type": "markdown",
   "metadata": {},
   "source": [
    "### write program code with the speed of thinking"
   ]
  },
  {
   "cell_type": "markdown",
   "metadata": {},
   "source": [
    "* extended Marvin Minsky [[frame model]]\n",
    "  * ordered `nest[]`ed container added for attribute grammar & AST\n",
    "  * **universal knowledge representation**\n",
    "  * ideal for [[homoiconic]] [[metaprogramming]]\n",
    "  * [[loosen classless OOP]]\n",
    "  * [[homoiconic]] universe in form of object graphs\n",
    "    * **no plain text source code** at all\n",
    "      * [[metaL]] is an auxiliary tool (command/DDL language)"
   ]
  },
  {
   "cell_type": "markdown",
   "metadata": {},
   "source": [
    "* multiparadigm\n",
    "  * [[parallel]] via [[message passing]]\n",
    "  * [[declarative]]\n",
    "  * [[imperative]] but [[avoid sequential programming]]"
   ]
  },
  {
   "cell_type": "markdown",
   "metadata": {},
   "source": [
    "* multilanguage inspired\n",
    "  * [[Python]] used for runtime core\n",
    "    * as a language simplest to learn\n",
    "    * very light and fast runtime\n",
    "    * portable\n",
    "    * easy to write extensions and integrate extra libraries\n",
    "  * [[Lisp]]\n",
    "    * [[homoiconic]] from the roots\n",
    "  * [[Smalltalk]] & Self\n",
    "    * fully dynamic system\n",
    "    * actor model with [[message passing]]\n",
    "    * RAM-only: no image persistence, system (re)loads from plain text files\n",
    "      * friendly with git(hub)\n",
    "      * manual edit for system definition\n",
    "  * [[FORTH]]\n",
    "    * world simplest programming language ever can be\n",
    "    * [[metaL]] : very simple FORTH-like language solves most problems with classical [[FORTH]]\n",
    "      * no direct memory faults\n",
    "      * *is not programming but command and **frame definition** language*"
   ]
  },
  {
   "cell_type": "markdown",
   "metadata": {},
   "source": [
    "* designed for [embedded systems](embedded.ipynb)s (meta)programming\n",
    "  * via [[code generation]]\n",
    "    * [[emC]] / [[C++]]\n",
    "    * [[IoT]] specific\n",
    "      * [[Java]]\n",
    "  * hardware\n",
    "    * [[CortexM]] (STM32,..)\n",
    "    * [[MSP430]]\n",
    "    * [[AVR8]] Arduino legacy\n",
    "    * [[emLinux]]\n",
    "  * cross-compiler toolchains\n",
    "    * [[GNU]]\n",
    "    * [[IAR]]\n",
    "    * [[LLVM]]"
   ]
  }
 ],
 "metadata": {
  "kernelspec": {
   "display_name": "Python 3",
   "language": "python",
   "name": "python3"
  },
  "language_info": {
   "codemirror_mode": {
    "name": "ipython",
    "version": 3
   },
   "file_extension": ".py",
   "mimetype": "text/x-python",
   "name": "python",
   "nbconvert_exporter": "python",
   "pygments_lexer": "ipython3",
   "version": "3.5.3"
  }
 },
 "nbformat": 4,
 "nbformat_minor": 2
}
