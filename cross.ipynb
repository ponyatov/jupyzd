{
 "cells": [
  {
   "cell_type": "markdown",
   "metadata": {},
   "source": [
    "# building cross-compiler GNU toolchain"
   ]
  },
  {
   "cell_type": "markdown",
   "metadata": {},
   "source": [
    "Cross-compiler build is going using GNU [make](make.ipynb) tool, which is the minimal and still powerful automation tool for build control."
   ]
  },
  {
   "cell_type": "markdown",
   "metadata": {},
   "source": [
    "## target system configuration"
   ]
  },
  {
   "cell_type": "markdown",
   "metadata": {},
   "source": [
    "configuration variables can be overriden in a command line:\n",
    "```\n",
    "cd msp430 ; make APP=cnc HW=pc104 TARGET=i686 binutils\n",
    "```"
   ]
  },
  {
   "cell_type": "markdown",
   "metadata": {},
   "source": [
    "### application"
   ]
  },
  {
   "cell_type": "code",
   "execution_count": 372,
   "metadata": {},
   "outputs": [
    {
     "name": "stdout",
     "output_type": "stream",
     "text": [
      "Overwriting msp430/Makefile\n"
     ]
    }
   ],
   "source": [
    "%%writefile msp430/Makefile\n",
    "\n",
    "APP    ?= blink"
   ]
  },
  {
   "cell_type": "markdown",
   "metadata": {},
   "source": [
    "### hardware device"
   ]
  },
  {
   "cell_type": "markdown",
   "metadata": {},
   "source": [
    "Hardware device you are targetting, must be used for lot of configuration: GPIO ports, peripherial pingout,.."
   ]
  },
  {
   "cell_type": "markdown",
   "metadata": {},
   "source": [
    "* `HW`\n",
    "  * [msp430g2]()\n",
    "  * [cm0pill]()\n",
    "  * [cm1pill]()"
   ]
  },
  {
   "cell_type": "code",
   "execution_count": 373,
   "metadata": {},
   "outputs": [
    {
     "name": "stdout",
     "output_type": "stream",
     "text": [
      "Appending to msp430/Makefile\n"
     ]
    }
   ],
   "source": [
    "%%writefile -a msp430/Makefile\n",
    "\n",
    "HW     ?= msp430g2"
   ]
  },
  {
   "cell_type": "markdown",
   "metadata": {},
   "source": [
    "### target MCU/CPU/OS triplet"
   ]
  },
  {
   "cell_type": "markdown",
   "metadata": {},
   "source": [
    "* `BUILD`\n",
    "  - system name of your workstation OS in form of **system triplet**\n",
    "    - `x86_64-pc-linux-gnu`\n",
    "* `HOST`\n",
    "  - triplet of OS will run on an emLinux embedded device ([Raspberry](), [PC104](),..)\n",
    "    * for MCU targets we'll drop it\n",
    "* `TARGET`\n",
    "  - triplet of MCU target\n",
    "    * [msp430](msp430.ipynb)\n",
    "    * i386"
   ]
  },
  {
   "cell_type": "code",
   "execution_count": 374,
   "metadata": {},
   "outputs": [
    {
     "name": "stdout",
     "output_type": "stream",
     "text": [
      "Appending to msp430/Makefile\n"
     ]
    }
   ],
   "source": [
    "%%writefile -a msp430/Makefile\n",
    "\n",
    "TARGET ?= msp430"
   ]
  },
  {
   "cell_type": "markdown",
   "metadata": {},
   "source": [
    "## directory structure"
   ]
  },
  {
   "cell_type": "markdown",
   "metadata": {},
   "source": [
    "This is set of directories will be created \n",
    "\n",
    "* `CWD` in the same dir as `Makefile` itself or directory selected by `make -C` option\n",
    "* `GZ` downloaded archives\n",
    "* `TMP` temp build directory\n",
    "* `SRC` source code for every tool will be built\n",
    "* `GNU` all compilers and tools will be pushed locally into this directory\n",
    "  - such a scheme will not affect to whole `BUILD`/`HOST` system, all toolds will reside in a user `HOME`"
   ]
  },
  {
   "cell_type": "code",
   "execution_count": 375,
   "metadata": {},
   "outputs": [
    {
     "name": "stdout",
     "output_type": "stream",
     "text": [
      "Appending to msp430/Makefile\n"
     ]
    }
   ],
   "source": [
    "%%writefile -a msp430/Makefile\n",
    "\n",
    "CWD = $(CURDIR)\n",
    "GZ  = $(CWD)/gz\n",
    "TMP = $(CWD)/tmp\n",
    "SRC = $(TMP)/src\n",
    "GNU = $(CWD)/gnu_$(TARGET)\n",
    "\n",
    "dirs:\n",
    "\tmkdir -p $(GZ) $(TMP) $(SRC) $(GNU)"
   ]
  },
  {
   "cell_type": "code",
   "execution_count": 376,
   "metadata": {},
   "outputs": [
    {
     "name": "stdout",
     "output_type": "stream",
     "text": [
      "mkdir -p /home/dpon/jupy/msp430/gz /home/dpon/jupy/msp430/tmp /home/dpon/jupy/msp430/tmp/src /home/dpon/jupy/msp430/gnu_msp430\n",
      "итого 44\n",
      "drwxr-xr-x  8 dpon dpon 4096 май 29 16:41 .\n",
      "drwxr-xr-x 11 dpon dpon 4096 май 29 17:37 ..\n",
      "-rw-r--r--  1 dpon dpon  724 май 29 15:04 cross.ipynb\n",
      "drwxr-xr-x  2 dpon dpon 4096 май 29 16:40 cross_msp430\n",
      "-rw-r--r--  1 dpon dpon   21 май 29 16:41 .gitignore\n",
      "drwxr-xr-x  5 dpon dpon 4096 май 29 17:36 gnu_msp430\n",
      "drwxr-xr-x  2 dpon dpon 4096 май 29 16:29 gz\n",
      "drwxr-xr-x  2 dpon dpon 4096 май 29 14:41 .ipynb_checkpoints\n",
      "-rw-r--r--  1 dpon dpon  193 май 29 17:37 Makefile\n",
      "drwxr-xr-x  2 dpon dpon 4096 май 29 16:39 msp430\n",
      "drwxr-xr-x  4 dpon dpon 4096 май 29 17:35 tmp\n",
      "итого 16\n",
      "drwxr-xr-x  4 dpon dpon 4096 май 29 17:35 .\n",
      "drwxr-xr-x  8 dpon dpon 4096 май 29 16:41 ..\n",
      "drwxr-xr-x 12 dpon dpon 4096 май 29 17:35 binutils-2.32\n",
      "drwxr-xr-x  3 dpon dpon 4096 май 29 17:09 src\n"
     ]
    }
   ],
   "source": [
    "%%sh\n",
    "cd msp430 ; make dirs ; ls -la ; ls -la tmp"
   ]
  },
  {
   "cell_type": "markdown",
   "metadata": {},
   "source": [
    "## cross-compiler components"
   ]
  },
  {
   "cell_type": "markdown",
   "metadata": {},
   "source": [
    "## versions"
   ]
  },
  {
   "cell_type": "code",
   "execution_count": 377,
   "metadata": {},
   "outputs": [
    {
     "name": "stdout",
     "output_type": "stream",
     "text": [
      "Appending to msp430/Makefile\n"
     ]
    }
   ],
   "source": [
    "%%writefile -a msp430/Makefile\n",
    "\n",
    "BINUTILS_VER = 2.32"
   ]
  },
  {
   "cell_type": "code",
   "execution_count": 378,
   "metadata": {},
   "outputs": [
    {
     "name": "stdout",
     "output_type": "stream",
     "text": [
      "Appending to msp430/Makefile\n"
     ]
    }
   ],
   "source": [
    "%%writefile -a msp430/Makefile\n",
    "\n",
    "BINUTILS = binutils-$(BINUTILS_VER)"
   ]
  },
  {
   "cell_type": "markdown",
   "metadata": {},
   "source": [
    "## predownload all archives"
   ]
  },
  {
   "cell_type": "code",
   "execution_count": 379,
   "metadata": {},
   "outputs": [
    {
     "name": "stdout",
     "output_type": "stream",
     "text": [
      "Appending to msp430/Makefile\n"
     ]
    }
   ],
   "source": [
    "%%writefile -a msp430/Makefile\n",
    "\n",
    "BINUTILS_GZ = $(BINUTILS).tar.xz"
   ]
  },
  {
   "cell_type": "code",
   "execution_count": 380,
   "metadata": {},
   "outputs": [
    {
     "name": "stdout",
     "output_type": "stream",
     "text": [
      "Appending to msp430/Makefile\n"
     ]
    }
   ],
   "source": [
    "%%writefile -a msp430/Makefile\n",
    "\n",
    "WGET = wget -c -P $(GZ) -q\n",
    "\n",
    "gz: $(GZ)/$(BINUTILS_GZ)"
   ]
  },
  {
   "cell_type": "code",
   "execution_count": 381,
   "metadata": {},
   "outputs": [
    {
     "name": "stdout",
     "output_type": "stream",
     "text": [
      "make: Цель «gz» не требует выполнения команд.\n",
      "итого 20296\n",
      "drwxr-xr-x 2 dpon dpon     4096 май 29 16:29 .\n",
      "drwxr-xr-x 8 dpon dpon     4096 май 29 16:41 ..\n",
      "-rw-r--r-- 1 dpon dpon 20774880 фев  2 20:38 binutils-2.32.tar.xz\n"
     ]
    }
   ],
   "source": [
    "%%sh\n",
    "cd msp430 ; make gz ; ls -la gz"
   ]
  },
  {
   "cell_type": "markdown",
   "metadata": {},
   "source": [
    "### archive unpack rules"
   ]
  },
  {
   "cell_type": "code",
   "execution_count": 382,
   "metadata": {},
   "outputs": [
    {
     "name": "stdout",
     "output_type": "stream",
     "text": [
      "Appending to msp430/Makefile\n"
     ]
    }
   ],
   "source": [
    "%%writefile -a msp430/Makefile\n",
    "\n",
    "$(SRC)/%/README: $(GZ)/%.tar.xz\n",
    "\tcd $(SRC) ; xzcat $< | tar -x && touch $@"
   ]
  },
  {
   "cell_type": "markdown",
   "metadata": {},
   "source": [
    "### configure scripts run"
   ]
  },
  {
   "cell_type": "code",
   "execution_count": 383,
   "metadata": {},
   "outputs": [
    {
     "name": "stdout",
     "output_type": "stream",
     "text": [
      "Appending to msp430/Makefile\n"
     ]
    }
   ],
   "source": [
    "%%writefile -a msp430/Makefile\n",
    "\n",
    "XPATH = PATH=$(GNU)/bin:$(PATH)\n",
    "\n",
    "CFG = configure --disable-nls --prefix=$(GNU)\n",
    "\n",
    "MAKE = $(XPATH) make\n",
    "\n",
    "CPU_CORES = $(shell grep processor /proc/cpuinfo|wc -l)\n",
    "\n",
    "MAKEJ = $(MAKE) -j$(CPU_CORES)\n",
    "\n",
    "xp:\n",
    "\techo $(MAKEJ)"
   ]
  },
  {
   "cell_type": "code",
   "execution_count": 384,
   "metadata": {},
   "outputs": [
    {
     "name": "stdout",
     "output_type": "stream",
     "text": [
      "echo PATH=/home/dpon/jupy/msp430/gnu_msp430/bin:/home/dpon/jupy/bin:/home/dpon/jupy/bin:/home/dpon/.cargo/bin:/home/dpon/bin:/home/dpon/qm/bin:/home/dpon/qm/qtools/bin:/home/dpon/.node/bin:/home/dpon/go/bin:/usr/local/go/bin:/home/dpon/Android/SDK/tools:/home/dpon/Android/SDK/platform-tools:/home/dpon/jdk1.8.0_162/bin:/home/dpon/eclipse:/home/dpon/bin:/home/dpon/qm/bin:/home/dpon/qm/qtools/bin:/home/dpon/.node/bin:/home/dpon/go/bin:/usr/local/go/bin:/home/dpon/Android/SDK/tools:/home/dpon/Android/SDK/platform-tools:/home/dpon/jdk1.8.0_162/bin:/home/dpon/eclipse:/usr/local/bin:/usr/bin:/bin:/usr/games make -j4\n",
      "PATH=/home/dpon/jupy/msp430/gnu_msp430/bin:/home/dpon/jupy/bin:/home/dpon/jupy/bin:/home/dpon/.cargo/bin:/home/dpon/bin:/home/dpon/qm/bin:/home/dpon/qm/qtools/bin:/home/dpon/.node/bin:/home/dpon/go/bin:/usr/local/go/bin:/home/dpon/Android/SDK/tools:/home/dpon/Android/SDK/platform-tools:/home/dpon/jdk1.8.0_162/bin:/home/dpon/eclipse:/home/dpon/bin:/home/dpon/qm/bin:/home/dpon/qm/qtools/bin:/home/dpon/.node/bin:/home/dpon/go/bin:/usr/local/go/bin:/home/dpon/Android/SDK/tools:/home/dpon/Android/SDK/platform-tools:/home/dpon/jdk1.8.0_162/bin:/home/dpon/eclipse:/usr/local/bin:/usr/bin:/bin:/usr/games make -j4\n"
     ]
    }
   ],
   "source": [
    "%%sh\n",
    "cd msp430 ; make xp"
   ]
  },
  {
   "cell_type": "markdown",
   "metadata": {},
   "source": [
    "### [binutils](binutils.ipynb) : assembler, linker, object file tools"
   ]
  },
  {
   "cell_type": "code",
   "execution_count": 385,
   "metadata": {},
   "outputs": [
    {
     "name": "stdout",
     "output_type": "stream",
     "text": [
      "Appending to msp430/Makefile\n"
     ]
    }
   ],
   "source": [
    "%%writefile -a msp430/Makefile\n",
    "\n",
    "binutils: $(GNU)/bin/$(TARGET)-ld\n",
    "\n",
    "CFG_BINUTILS += --target=$(TARGET)\n",
    "\n",
    "$(GNU)/bin/$(TARGET)-ld: $(GZ)/$(BINUTILS_GZ) $(SRC)/$(BINUTILS)/README\n",
    "\trm -rf $(TMP)/$(BINUTILS) ; mkdir $(TMP)/$(BINUTILS) ; cd $(TMP)/$(BINUTILS) ;\\\n",
    "\t$(XPATH) $(SRC)/$(BINUTILS)/$(CFG) $(CFG_BINUTILS) && $(MAKEJ) && $(MAKE) install-strip\n",
    "\n",
    "$(GZ)/$(BINUTILS_GZ):\n",
    "\t$(WGET) https://mirror.tochlab.net/pub/gnu/binutils/$(BINUTILS_GZ)"
   ]
  },
  {
   "cell_type": "markdown",
   "metadata": {},
   "source": [
    "after `make` run `configure` will be run with required options:"
   ]
  },
  {
   "cell_type": "markdown",
   "metadata": {},
   "source": [
    "`/home/dpon/jupy/msp430/tmp/src/binutils-2.32/configure --disable-nls --target=msp430`"
   ]
  },
  {
   "cell_type": "markdown",
   "metadata": {},
   "source": [
    "detecting host/target"
   ]
  },
  {
   "cell_type": "markdown",
   "metadata": {},
   "source": [
    "```\n",
    "checking build system type... x86_64-pc-linux-gnu\n",
    "checking host system type... x86_64-pc-linux-gnu\n",
    "checking target system type... msp430-unknown-none\n",
    "```"
   ]
  },
  {
   "cell_type": "markdown",
   "metadata": {},
   "source": [
    "build requires some preinstalled developmen packages:\n",
    " * `sudo apt install`\n",
    "   - `build-essential` `m4` `wget` `make` `gcc g++` `flex` `bison`\n",
    "   - `xz` `bzip2`\n",
    "   - `bc` `libncurses-dev` only for Linux kernel build"
   ]
  },
  {
   "cell_type": "markdown",
   "metadata": {},
   "source": [
    "```\n",
    "checking for gcc... gcc\n",
    "checking for g++... g++\n",
    "checking for bison... bison\n",
    "checking for m4... m4\n",
    "checking for flex... flex\n",
    "```"
   ]
  },
  {
   "cell_type": "code",
   "execution_count": 386,
   "metadata": {},
   "outputs": [],
   "source": [
    "%%sh\n",
    "# cd msp430 ; make binutils ; ls -la tmp/src tmp gnu*"
   ]
  },
  {
   "cell_type": "code",
   "execution_count": null,
   "metadata": {},
   "outputs": [],
   "source": []
  }
 ],
 "metadata": {
  "kernelspec": {
   "display_name": "Python 3",
   "language": "python",
   "name": "python3"
  },
  "language_info": {
   "codemirror_mode": {
    "name": "ipython",
    "version": 3
   },
   "file_extension": ".py",
   "mimetype": "text/x-python",
   "name": "python",
   "nbconvert_exporter": "python",
   "pygments_lexer": "ipython3",
   "version": "3.5.3"
  }
 },
 "nbformat": 4,
 "nbformat_minor": 2
}
