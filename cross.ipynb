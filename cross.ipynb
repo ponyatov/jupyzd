{
 "cells": [
  {
   "cell_type": "markdown",
   "metadata": {},
   "source": [
    "# building cross-compiler GNU toolchain"
   ]
  },
  {
   "cell_type": "markdown",
   "metadata": {},
   "source": [
    "Cross-compiler build is going using GNU [make](make.ipynb) tool, which is the minimal and still powerful automation tool for build control."
   ]
  },
  {
   "cell_type": "markdown",
   "metadata": {},
   "source": [
    "## target system configuration"
   ]
  },
  {
   "cell_type": "markdown",
   "metadata": {},
   "source": [
    "configuration variables can be overriden in a command line:\n",
    "```\n",
    "cd msp430 ; make APP=cnc HW=pc104 TARGET=i686 binutils\n",
    "```"
   ]
  },
  {
   "cell_type": "markdown",
   "metadata": {},
   "source": [
    "### application"
   ]
  },
  {
   "cell_type": "code",
   "execution_count": 106,
   "metadata": {},
   "outputs": [
    {
     "name": "stdout",
     "output_type": "stream",
     "text": [
      "Overwriting cross/Makefile\n"
     ]
    }
   ],
   "source": [
    "%%writefile cross/Makefile\n",
    "\n",
    "APP    ?= blink"
   ]
  },
  {
   "cell_type": "markdown",
   "metadata": {},
   "source": [
    "### hardware device"
   ]
  },
  {
   "cell_type": "markdown",
   "metadata": {},
   "source": [
    "Hardware device you are targetting, must be used for lot of configuration: GPIO ports, peripherial pingout,.."
   ]
  },
  {
   "cell_type": "markdown",
   "metadata": {},
   "source": [
    "* `HW`\n",
    "  * [msp430g2]()\n",
    "  * [cm0pill]()\n",
    "  * [cm1pill]()"
   ]
  },
  {
   "cell_type": "code",
   "execution_count": 107,
   "metadata": {},
   "outputs": [
    {
     "name": "stdout",
     "output_type": "stream",
     "text": [
      "Appending to cross/Makefile\n"
     ]
    }
   ],
   "source": [
    "%%writefile -a cross/Makefile\n",
    "\n",
    "HW     ?= msp430g2"
   ]
  },
  {
   "cell_type": "markdown",
   "metadata": {},
   "source": [
    "### target MCU/CPU/OS triplet"
   ]
  },
  {
   "cell_type": "markdown",
   "metadata": {},
   "source": [
    "* `BUILD`\n",
    "  - system name of your workstation OS in form of **system triplet**\n",
    "    - `x86_64-pc-linux-gnu`\n",
    "* `HOST`\n",
    "  - triplet of OS on which package will run\n",
    "    * for MCU targets we'll drop it using `HOST=BUILD`\n",
    "* `TARGET`\n",
    "  - triplet of MCU target\n",
    "    * [msp430](msp430.ipynb) MSP430\n",
    "    * [arm-none-eabi](arm-none-eabi.ipynb) Cortex-M\n",
    "    * [i486-elf](i486-elf.ipynb) PC104 VortexSX/DX"
   ]
  },
  {
   "cell_type": "code",
   "execution_count": 108,
   "metadata": {},
   "outputs": [
    {
     "name": "stdout",
     "output_type": "stream",
     "text": [
      "Appending to cross/Makefile\n"
     ]
    }
   ],
   "source": [
    "%%writefile -a cross/Makefile\n",
    "\n",
    "-include  hw/$(HW)\n",
    "-include cpu/$(CPU)"
   ]
  },
  {
   "cell_type": "code",
   "execution_count": 109,
   "metadata": {},
   "outputs": [
    {
     "name": "stdout",
     "output_type": "stream",
     "text": [
      "Overwriting cross/hw/msp430g2\n"
     ]
    }
   ],
   "source": [
    "%%writefile cross/hw/msp430g2\n",
    "\n",
    "CPU    ?= msp430f2553"
   ]
  },
  {
   "cell_type": "code",
   "execution_count": 110,
   "metadata": {},
   "outputs": [
    {
     "name": "stdout",
     "output_type": "stream",
     "text": [
      "Overwriting cross/cpu/msp430f2553\n"
     ]
    }
   ],
   "source": [
    "%%writefile cross/cpu/msp430f2553\n",
    "\n",
    "TARGET ?= msp430"
   ]
  },
  {
   "cell_type": "markdown",
   "metadata": {},
   "source": [
    "## directory structure"
   ]
  },
  {
   "cell_type": "markdown",
   "metadata": {},
   "source": [
    "* `Makefile`\n",
    "* `hw/` hardware boards CPU & peripherials and specific tools defines\n",
    "* `cpu/` CPU/MCU definitions"
   ]
  },
  {
   "cell_type": "markdown",
   "metadata": {},
   "source": [
    "This set of directories will be created \n",
    "\n",
    "* `CWD` in the same dir as `Makefile` itself or directory selected by `make -C` option\n",
    "* `GZ` downloaded archives\n",
    "* `TMP` temp build directory\n",
    "* `SRC` source code for every tool will be built\n",
    "* `GNU` all compilers and tools will be pushed locally into this directory\n",
    "  - such a scheme will not affect to whole `BUILD`/`HOST` system, all toolds will reside in a user `HOME`"
   ]
  },
  {
   "cell_type": "code",
   "execution_count": 111,
   "metadata": {},
   "outputs": [
    {
     "name": "stdout",
     "output_type": "stream",
     "text": [
      "Appending to cross/Makefile\n"
     ]
    }
   ],
   "source": [
    "%%writefile -a cross/Makefile\n",
    "\n",
    "CWD = $(CURDIR)\n",
    "GZ  = $(HOME)/gz\n",
    "TMP = $(CWD)/tmp\n",
    "SRC = $(TMP)/src\n",
    "GNU = $(CWD)/$(TARGET)"
   ]
  },
  {
   "cell_type": "code",
   "execution_count": 112,
   "metadata": {},
   "outputs": [
    {
     "name": "stdout",
     "output_type": "stream",
     "text": [
      "Appending to cross/Makefile\n"
     ]
    }
   ],
   "source": [
    "%%writefile -a cross/Makefile\n",
    "\n",
    "all: dirs gz binutils gdb"
   ]
  },
  {
   "cell_type": "code",
   "execution_count": 113,
   "metadata": {},
   "outputs": [
    {
     "name": "stdout",
     "output_type": "stream",
     "text": [
      "Appending to cross/Makefile\n"
     ]
    }
   ],
   "source": [
    "%%writefile -a cross/Makefile\n",
    "\n",
    "dirs:\n",
    "\tmkdir -p $(GZ) $(TMP) $(SRC) $(GNU)"
   ]
  },
  {
   "cell_type": "code",
   "execution_count": 114,
   "metadata": {},
   "outputs": [
    {
     "name": "stdout",
     "output_type": "stream",
     "text": [
      "Overwriting cross/.gitignore\n"
     ]
    }
   ],
   "source": [
    "%%writefile cross/.gitignore\n",
    "*~\n",
    "*.swp\n",
    "tmp/\n",
    "msp430/"
   ]
  },
  {
   "cell_type": "code",
   "execution_count": 115,
   "metadata": {},
   "outputs": [
    {
     "name": "stdout",
     "output_type": "stream",
     "text": [
      "mkdir -p /home/ponyatov/gz /home/ponyatov/jupy/cross/tmp /home/ponyatov/jupy/cross/tmp/src /home/ponyatov/jupy/cross/msp430\n",
      "итого 36\n",
      "drwxr-xr-x  7 ponyatov ponyatov 4096 май 29 21:27 .\n",
      "drwxr-xr-x 12 ponyatov ponyatov 4096 май 29 21:36 ..\n",
      "drwxr-xr-x  2 ponyatov ponyatov 4096 май 29 21:12 cpu\n",
      "-rw-r--r--  1 ponyatov ponyatov   22 май 29 21:36 .gitignore\n",
      "drwxr-xr-x  3 ponyatov ponyatov 4096 май 29 21:12 hw\n",
      "drwxr-xr-x  2 ponyatov ponyatov 4096 май 29 21:09 .ipynb_checkpoints\n",
      "-rw-r--r--  1 ponyatov ponyatov  239 май 29 21:36 Makefile\n",
      "drwxr-xr-x  2 ponyatov ponyatov 4096 май 29 21:23 msp430\n",
      "drwxr-xr-x  3 ponyatov ponyatov 4096 май 29 21:23 tmp\n",
      "итого 12\n",
      "drwxr-xr-x 3 ponyatov ponyatov 4096 май 29 21:23 .\n",
      "drwxr-xr-x 7 ponyatov ponyatov 4096 май 29 21:27 ..\n",
      "drwxr-xr-x 2 ponyatov ponyatov 4096 май 29 21:23 src\n"
     ]
    }
   ],
   "source": [
    "%%sh\n",
    "cd cross ; make dirs ; ls -la ; ls -la tmp"
   ]
  },
  {
   "cell_type": "markdown",
   "metadata": {},
   "source": [
    "## cross-compiler components"
   ]
  },
  {
   "cell_type": "markdown",
   "metadata": {},
   "source": [
    "## versions"
   ]
  },
  {
   "cell_type": "code",
   "execution_count": 116,
   "metadata": {},
   "outputs": [
    {
     "name": "stdout",
     "output_type": "stream",
     "text": [
      "Appending to cross/Makefile\n"
     ]
    }
   ],
   "source": [
    "%%writefile -a cross/Makefile\n",
    "\n",
    "BINUTILS_VER = 2.32\n",
    "GDB_VER      = 8.3"
   ]
  },
  {
   "cell_type": "code",
   "execution_count": 117,
   "metadata": {},
   "outputs": [
    {
     "name": "stdout",
     "output_type": "stream",
     "text": [
      "Appending to cross/Makefile\n"
     ]
    }
   ],
   "source": [
    "%%writefile -a cross/Makefile\n",
    "\n",
    "BINUTILS = binutils-$(BINUTILS_VER)\n",
    "GDB      = gdb-$(GDB_VER)"
   ]
  },
  {
   "cell_type": "markdown",
   "metadata": {},
   "source": [
    "## predownload all archives"
   ]
  },
  {
   "cell_type": "code",
   "execution_count": 118,
   "metadata": {},
   "outputs": [
    {
     "name": "stdout",
     "output_type": "stream",
     "text": [
      "Appending to cross/Makefile\n"
     ]
    }
   ],
   "source": [
    "%%writefile -a cross/Makefile\n",
    "\n",
    "BINUTILS_GZ = $(BINUTILS).tar.xz\n",
    "GDB_GZ      = $(GDB).tar.xz"
   ]
  },
  {
   "cell_type": "code",
   "execution_count": 119,
   "metadata": {},
   "outputs": [
    {
     "name": "stdout",
     "output_type": "stream",
     "text": [
      "Appending to cross/Makefile\n"
     ]
    }
   ],
   "source": [
    "%%writefile -a cross/Makefile\n",
    "\n",
    "WGET = wget -c -P $(GZ) -q\n",
    "\n",
    "gz: $(GZ)/$(BINUTILS_GZ) $(GZ)/$(GDB_GZ)"
   ]
  },
  {
   "cell_type": "code",
   "execution_count": 127,
   "metadata": {},
   "outputs": [
    {
     "name": "stdout",
     "output_type": "stream",
     "text": [
      "wget -c -P /home/ponyatov/gz -q https://mirror.tochlab.net/pub/gnu/binutils/binutils-2.32.tar.xz\n",
      "wget -c -P /home/ponyatov/gz -q http://ftp.gnu.org/gnu/gdb/gdb-8.3.tar.xz\n",
      "итого 40316\n",
      "drwxr-xr-x   2 ponyatov ponyatov     4096 май 29 21:37 .\n",
      "drwxr-xr-x 181 ponyatov ponyatov    12288 май 29 21:13 ..\n",
      "-rw-r--r--   1 ponyatov ponyatov 20774880 фев  2 20:38 binutils-2.32.tar.xz\n",
      "-rw-r--r--   1 ponyatov ponyatov 20490300 май 11 22:47 gdb-8.3.tar.xz\n",
      "-rw-r--r--   1 ponyatov ponyatov        0 окт 13  2017 .gitkeep\n"
     ]
    }
   ],
   "source": [
    "%%sh\n",
    "cd cross ; make gz ; ls -la ~/gz"
   ]
  },
  {
   "cell_type": "markdown",
   "metadata": {},
   "source": [
    "### archive unpack rules"
   ]
  },
  {
   "cell_type": "code",
   "execution_count": 121,
   "metadata": {},
   "outputs": [
    {
     "name": "stdout",
     "output_type": "stream",
     "text": [
      "Appending to cross/Makefile\n"
     ]
    }
   ],
   "source": [
    "%%writefile -a cross/Makefile\n",
    "\n",
    "$(SRC)/%/README: $(GZ)/%.tar.xz\n",
    "\tcd $(SRC) ; xzcat $< | tar -x && touch $@"
   ]
  },
  {
   "cell_type": "markdown",
   "metadata": {},
   "source": [
    "### configure scripts run"
   ]
  },
  {
   "cell_type": "code",
   "execution_count": 122,
   "metadata": {},
   "outputs": [
    {
     "name": "stdout",
     "output_type": "stream",
     "text": [
      "Appending to cross/Makefile\n"
     ]
    }
   ],
   "source": [
    "%%writefile -a cross/Makefile\n",
    "\n",
    "XPATH = PATH=$(GNU)/bin:$(PATH)\n",
    "\n",
    "CFG = configure --disable-nls --prefix=$(GNU)\n",
    "\n",
    "MAKE = $(XPATH) make"
   ]
  },
  {
   "cell_type": "markdown",
   "metadata": {},
   "source": [
    "most components can be built with use of full power of your computer, but `gcc` build can't be done in parallel even on i7/6G so `make gcc0` **will be run in single process** -- run in in background, and do some useful work while building: read docs, take a rest with tee, etc"
   ]
  },
  {
   "cell_type": "code",
   "execution_count": 123,
   "metadata": {},
   "outputs": [
    {
     "name": "stdout",
     "output_type": "stream",
     "text": [
      "Appending to cross/Makefile\n"
     ]
    }
   ],
   "source": [
    "%%writefile -a cross/Makefile\n",
    "\n",
    "CPU_CORES = $(shell grep processor /proc/cpuinfo|wc -l)\n",
    "\n",
    "MAKEJ = $(MAKE) -j$(CPU_CORES)"
   ]
  },
  {
   "cell_type": "markdown",
   "metadata": {},
   "source": [
    "### [binutils](binutils.ipynb) : assembler, linker, object file tools"
   ]
  },
  {
   "cell_type": "code",
   "execution_count": 124,
   "metadata": {},
   "outputs": [
    {
     "name": "stdout",
     "output_type": "stream",
     "text": [
      "Appending to cross/Makefile\n"
     ]
    }
   ],
   "source": [
    "%%writefile -a cross/Makefile\n",
    "\n",
    "binutils: $(GNU)/bin/$(TARGET)-ld\n",
    "\n",
    "CFG_BINUTILS += --target=$(TARGET)\n",
    "\n",
    "$(GNU)/bin/$(TARGET)-ld: $(GZ)/$(BINUTILS_GZ) $(SRC)/$(BINUTILS)/README\n",
    "\trm -rf $(TMP)/$(BINUTILS) ; mkdir $(TMP)/$(BINUTILS) ; cd $(TMP)/$(BINUTILS) ;\\\n",
    "\t$(XPATH) $(SRC)/$(BINUTILS)/$(CFG) $(CFG_BINUTILS) && $(MAKEJ) && $(MAKE) install-strip\n",
    "\n",
    "$(GZ)/$(BINUTILS_GZ):\n",
    "\t$(WGET) https://mirror.tochlab.net/pub/gnu/binutils/$(BINUTILS_GZ)"
   ]
  },
  {
   "cell_type": "code",
   "execution_count": 125,
   "metadata": {},
   "outputs": [],
   "source": [
    "%%sh\n",
    "# cd msp430 ; make binutils ; ls -la tmp/src tmp gnu*"
   ]
  },
  {
   "cell_type": "markdown",
   "metadata": {},
   "source": [
    "after `make` run `configure` will be run with required options:"
   ]
  },
  {
   "cell_type": "markdown",
   "metadata": {},
   "source": [
    "`/home/dpon/jupy/msp430/tmp/src/binutils-2.32/configure --disable-nls --prefix=/home/user/jupy/msp430 --target=msp430`"
   ]
  },
  {
   "cell_type": "markdown",
   "metadata": {},
   "source": [
    "detecting host/target"
   ]
  },
  {
   "cell_type": "markdown",
   "metadata": {},
   "source": [
    "```\n",
    "checking build system type... x86_64-pc-linux-gnu\n",
    "checking host system type... x86_64-pc-linux-gnu\n",
    "checking target system type... msp430-unknown-none\n",
    "```"
   ]
  },
  {
   "cell_type": "markdown",
   "metadata": {},
   "source": [
    "build requires some preinstalled developmen packages:\n",
    " * `sudo apt install`\n",
    "   - `build-essential` `m4` `wget` `make` `gcc g++` `flex` `bison`\n",
    "   - `xz` `bzip2`\n",
    "   - `bc` `libncurses-dev` only for Linux kernel build"
   ]
  },
  {
   "cell_type": "markdown",
   "metadata": {},
   "source": [
    "```\n",
    "checking for gcc... gcc\n",
    "checking for g++... g++\n",
    "checking for bison... bison\n",
    "checking for m4... m4\n",
    "checking for flex... flex\n",
    "```"
   ]
  },
  {
   "cell_type": "markdown",
   "metadata": {},
   "source": [
    "`make -j4`\n",
    "\n",
    "`make install-strip`"
   ]
  },
  {
   "cell_type": "markdown",
   "metadata": {},
   "source": [
    "### [gdb](gdb.ipynb) : remote hardware debugger"
   ]
  },
  {
   "cell_type": "code",
   "execution_count": 126,
   "metadata": {},
   "outputs": [
    {
     "name": "stdout",
     "output_type": "stream",
     "text": [
      "Appending to cross/Makefile\n"
     ]
    }
   ],
   "source": [
    "%%writefile -a cross/Makefile\n",
    "\n",
    "gdb: $(GNU)/bin/$(TARGET)-gdb\n",
    "\n",
    "CFG_GDB += $(CFG_BINUTILS) --enable-python\n",
    "\n",
    "$(GNU)/bin/$(TARGET)-gdb: $(GZ)/$(GDB_GZ) $(SRC)/$(GDB)/README\n",
    "\trm -rf $(TMP)/$(GDB) ; mkdir $(TMP)/$(GDB) ; cd $(TMP)/$(GDB) ;\\\n",
    "\t$(XPATH) $(SRC)/$(GDB)/$(CFG) $(CFG_GDB) && $(MAKEJ) && $(MAKE) install-strip\n",
    "\n",
    "$(GZ)/$(GDB_GZ):\n",
    "\t$(WGET) http://ftp.gnu.org/gnu/gdb/$(GDB_GZ)"
   ]
  },
  {
   "cell_type": "code",
   "execution_count": null,
   "metadata": {},
   "outputs": [],
   "source": []
  }
 ],
 "metadata": {
  "kernelspec": {
   "display_name": "Python 3",
   "language": "python",
   "name": "python3"
  },
  "language_info": {
   "codemirror_mode": {
    "name": "ipython",
    "version": 3
   },
   "file_extension": ".py",
   "mimetype": "text/x-python",
   "name": "python",
   "nbconvert_exporter": "python",
   "pygments_lexer": "ipython3",
   "version": "3.5.3"
  }
 },
 "nbformat": 4,
 "nbformat_minor": 2
}
