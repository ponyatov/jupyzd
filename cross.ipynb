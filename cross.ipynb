{
 "cells": [
  {
   "cell_type": "markdown",
   "metadata": {},
   "source": [
    "# building cross-compiler GNU toolchain"
   ]
  },
  {
   "cell_type": "markdown",
   "metadata": {},
   "source": [
    "Cross-compiler build is going using GNU [make](make.ipynb) tool, which is the minimal and still powerful automation tool for build control."
   ]
  },
  {
   "cell_type": "markdown",
   "metadata": {},
   "source": [
    "### target system configuration"
   ]
  },
  {
   "cell_type": "markdown",
   "metadata": {},
   "source": [
    "* [msp430](msp430.ipynb)\n",
    "* i386"
   ]
  },
  {
   "cell_type": "code",
   "execution_count": 61,
   "metadata": {},
   "outputs": [
    {
     "name": "stdout",
     "output_type": "stream",
     "text": [
      "Overwriting msp430/Makefile\n"
     ]
    }
   ],
   "source": [
    "%%writefile msp430/Makefile\n",
    "\n",
    "TARGET ?= msp430"
   ]
  },
  {
   "cell_type": "markdown",
   "metadata": {},
   "source": [
    "### directory structure"
   ]
  },
  {
   "cell_type": "code",
   "execution_count": 62,
   "metadata": {},
   "outputs": [
    {
     "name": "stdout",
     "output_type": "stream",
     "text": [
      "Appending to msp430/Makefile\n"
     ]
    }
   ],
   "source": [
    "%%writefile -a msp430/Makefile\n",
    "\n",
    "CWD = $(CURDIR)\n",
    "GZ  = $(CWD)/gz\n",
    "TMP = $(CWD)/tmp\n",
    "SRC = $(TMP)/src\n",
    "GNU = $(CWD)/gnu_$(TARGET)\n",
    "\n",
    "dirs:\n",
    "\tmkdir -p $(GZ) $(TMP) $(SRC) $(GNU)"
   ]
  },
  {
   "cell_type": "code",
   "execution_count": 63,
   "metadata": {},
   "outputs": [
    {
     "name": "stdout",
     "output_type": "stream",
     "text": [
      "mkdir -p /home/dpon/jupy/msp430/gz /home/dpon/jupy/msp430/tmp /home/dpon/jupy/msp430/tmp/src /home/dpon/jupy/msp430/gnu_msp430\n",
      "итого 44\n",
      "drwxr-xr-x  8 dpon dpon 4096 май 29 16:41 .\n",
      "drwxr-xr-x 11 dpon dpon 4096 май 29 16:40 ..\n",
      "-rw-r--r--  1 dpon dpon  724 май 29 15:04 cross.ipynb\n",
      "drwxr-xr-x  2 dpon dpon 4096 май 29 16:40 cross_msp430\n",
      "-rw-r--r--  1 dpon dpon   24 май 29 16:40 .gitignore\n",
      "drwxr-xr-x  2 dpon dpon 4096 май 29 16:41 gnu_msp430\n",
      "drwxr-xr-x  2 dpon dpon 4096 май 29 16:29 gz\n",
      "drwxr-xr-x  2 dpon dpon 4096 май 29 14:41 .ipynb_checkpoints\n",
      "-rw-r--r--  1 dpon dpon  156 май 29 16:41 Makefile\n",
      "drwxr-xr-x  2 dpon dpon 4096 май 29 16:39 msp430\n",
      "drwxr-xr-x  3 dpon dpon 4096 май 29 16:18 tmp\n",
      "tmp\n",
      "tmp/src\n"
     ]
    }
   ],
   "source": [
    "%%sh\n",
    "cd msp430 ; make dirs ; ls -la ; find tmp"
   ]
  },
  {
   "cell_type": "code",
   "execution_count": 64,
   "metadata": {},
   "outputs": [
    {
     "name": "stdout",
     "output_type": "stream",
     "text": [
      "Appending to msp430/Makefile\n"
     ]
    }
   ],
   "source": [
    "%%writefile -a msp430/Makefile\n",
    "\n",
    "BINUTILS_VER = 2.32\n",
    "\n",
    "BINUTILS = binutils-$(BINUTILS_VER)\n",
    "\n",
    "BINUTILS_GZ = $(BINUTILS).tar.xz\n",
    "\n",
    "WGET = wget -c -P $(GZ) -q\n",
    "\n",
    "gz: $(GZ)/$(BINUTILS_GZ)\n",
    "$(GZ)/$(BINUTILS_GZ):\n",
    "\t$(WGET) https://mirror.tochlab.net/pub/gnu/binutils/$(BINUTILS_GZ)"
   ]
  },
  {
   "cell_type": "code",
   "execution_count": 65,
   "metadata": {},
   "outputs": [
    {
     "name": "stdout",
     "output_type": "stream",
     "text": [
      "make: Цель «gz» не требует выполнения команд.\n",
      "итого 20296\n",
      "drwxr-xr-x 2 dpon dpon     4096 май 29 16:29 .\n",
      "drwxr-xr-x 8 dpon dpon     4096 май 29 16:41 ..\n",
      "-rw-r--r-- 1 dpon dpon 20774880 фев  2 20:38 binutils-2.32.tar.xz\n"
     ]
    }
   ],
   "source": [
    "%%sh\n",
    "cd msp430 ; make gz ; ls -la gz"
   ]
  },
  {
   "cell_type": "code",
   "execution_count": null,
   "metadata": {},
   "outputs": [],
   "source": []
  }
 ],
 "metadata": {
  "kernelspec": {
   "display_name": "Python 3",
   "language": "python",
   "name": "python3"
  },
  "language_info": {
   "codemirror_mode": {
    "name": "ipython",
    "version": 3
   },
   "file_extension": ".py",
   "mimetype": "text/x-python",
   "name": "python",
   "nbconvert_exporter": "python",
   "pygments_lexer": "ipython3",
   "version": "3.5.3"
  }
 },
 "nbformat": 4,
 "nbformat_minor": 2
}
