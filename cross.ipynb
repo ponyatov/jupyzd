{
 "cells": [
  {
   "cell_type": "markdown",
   "metadata": {},
   "source": [
    "# building cross-compiler GNU toolchain"
   ]
  },
  {
   "cell_type": "code",
   "execution_count": 6,
   "metadata": {},
   "outputs": [
    {
     "name": "stdout",
     "output_type": "stream",
     "text": [
      "bash: cd: msp430: Нет такого файла или каталога\n",
      "/home/dpon/jupy/msp430\n",
      "cross.ipynb  Makefile\n"
     ]
    }
   ],
   "source": [
    "cd msp430 ; pwd ; ls"
   ]
  },
  {
   "cell_type": "code",
   "execution_count": 8,
   "metadata": {},
   "outputs": [
    {
     "name": "stdout",
     "output_type": "stream",
     "text": [
      "итого 16\n",
      "drwxr-xr-x  3 dpon dpon 4096 май 29 15:21 \u001b[0m\u001b[01;34m.\u001b[0m\n",
      "drwxr-xr-x 11 dpon dpon 4096 май 29 15:22 \u001b[01;34m..\u001b[0m\n",
      "-rw-r--r--  1 dpon dpon  724 май 29 15:04 cross.ipynb\n",
      "drwxr-xr-x  2 dpon dpon 4096 май 29 14:41 \u001b[01;34m.ipynb_checkpoints\u001b[0m\n",
      "-rw-r--r--  1 dpon dpon    0 май 29 15:28 Makefile\n"
     ]
    }
   ],
   "source": [
    "touch Makefile ; ls -la"
   ]
  },
  {
   "cell_type": "code",
   "execution_count": 11,
   "metadata": {},
   "outputs": [
    {
     "name": "stdout",
     "output_type": "stream",
     "text": [
      "bash: fg: %writefile: нет такого задания\n",
      "bash: fsdfsdf: команда не найдена\n"
     ]
    },
    {
     "ename": "",
     "evalue": "127",
     "output_type": "error",
     "traceback": []
    }
   ],
   "source": [
    "%writefile Makefile\n",
    "fsdfsdf"
   ]
  }
 ],
 "metadata": {
  "kernelspec": {
   "display_name": "Bash",
   "language": "bash",
   "name": "bash"
  },
  "language_info": {
   "codemirror_mode": "shell",
   "file_extension": ".sh",
   "mimetype": "text/x-sh",
   "name": "bash"
  }
 },
 "nbformat": 4,
 "nbformat_minor": 2
}
