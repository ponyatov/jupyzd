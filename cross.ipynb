{
 "cells": [
  {
   "cell_type": "markdown",
   "metadata": {},
   "source": [
    "# building cross-compiler GNU toolchain"
   ]
  },
  {
   "cell_type": "markdown",
   "metadata": {},
   "source": [
    "Cross-compiler build is going using GNU [make](make.ipynb) tool, which is the minimal and still powerful automation tool for build control."
   ]
  },
  {
   "cell_type": "markdown",
   "metadata": {},
   "source": [
    "## target system configuration"
   ]
  },
  {
   "cell_type": "markdown",
   "metadata": {},
   "source": [
    "### application"
   ]
  },
  {
   "cell_type": "code",
   "execution_count": 239,
   "metadata": {},
   "outputs": [
    {
     "name": "stdout",
     "output_type": "stream",
     "text": [
      "Overwriting msp430/Makefile\n"
     ]
    }
   ],
   "source": [
    "%%writefile msp430/Makefile\n",
    "\n",
    "APP    ?= blink"
   ]
  },
  {
   "cell_type": "markdown",
   "metadata": {},
   "source": [
    "### hardware device"
   ]
  },
  {
   "cell_type": "markdown",
   "metadata": {},
   "source": [
    "Hardware device you are targetting, must be used for lot of configuration: GPIO ports, peripherial pingout,.."
   ]
  },
  {
   "cell_type": "markdown",
   "metadata": {},
   "source": [
    "* `HW`\n",
    "  * [msp430g2]()\n",
    "  * [cm0pill]()\n",
    "  * [cm1pill]()"
   ]
  },
  {
   "cell_type": "code",
   "execution_count": 240,
   "metadata": {},
   "outputs": [
    {
     "name": "stdout",
     "output_type": "stream",
     "text": [
      "Appending to msp430/Makefile\n"
     ]
    }
   ],
   "source": [
    "%%writefile -a msp430/Makefile\n",
    "\n",
    "HW     ?= msp430g2"
   ]
  },
  {
   "cell_type": "markdown",
   "metadata": {},
   "source": [
    "### target MCU/CPU/OS triplet"
   ]
  },
  {
   "cell_type": "markdown",
   "metadata": {},
   "source": [
    "* `BUILD`\n",
    "  - system name of your workstation OS in form of **system triplet**\n",
    "    - `x86_64-pc-linux-gnu`\n",
    "* `HOST`\n",
    "  - triplet of OS will run on an emLinux embedded device ([Raspberry](), [PC104](),..)\n",
    "    * for MCU targets we'll drop it\n",
    "* `TARGET`\n",
    "  - triplet of MCU target\n",
    "    * [msp430](msp430.ipynb)\n",
    "    * i386"
   ]
  },
  {
   "cell_type": "code",
   "execution_count": 241,
   "metadata": {},
   "outputs": [
    {
     "name": "stdout",
     "output_type": "stream",
     "text": [
      "Appending to msp430/Makefile\n"
     ]
    }
   ],
   "source": [
    "%%writefile -a msp430/Makefile\n",
    "\n",
    "TARGET ?= msp430"
   ]
  },
  {
   "cell_type": "markdown",
   "metadata": {},
   "source": [
    "## directory structure"
   ]
  },
  {
   "cell_type": "markdown",
   "metadata": {},
   "source": [
    "This is set of directories will be created \n",
    "\n",
    "* `CWD` in the same dir as `Makefile` itself or directory selected by `make -C` option\n",
    "* `GZ` downloaded archives\n",
    "* `TMP` temp build directory\n",
    "* `SRC` source code for every tool will be built\n",
    "* `GNU` all compilers and tools will be pushed locally into this directory\n",
    "  - such a scheme will not affect to whole `BUILD`/`HOST` system, all toolds will reside in a user `HOME`"
   ]
  },
  {
   "cell_type": "code",
   "execution_count": 242,
   "metadata": {},
   "outputs": [
    {
     "name": "stdout",
     "output_type": "stream",
     "text": [
      "Appending to msp430/Makefile\n"
     ]
    }
   ],
   "source": [
    "%%writefile -a msp430/Makefile\n",
    "\n",
    "CWD = $(CURDIR)\n",
    "GZ  = $(CWD)/gz\n",
    "TMP = $(CWD)/tmp\n",
    "SRC = $(TMP)/src\n",
    "GNU = $(CWD)/gnu_$(TARGET)\n",
    "\n",
    "dirs:\n",
    "\tmkdir -p $(GZ) $(TMP) $(SRC) $(GNU)"
   ]
  },
  {
   "cell_type": "code",
   "execution_count": 243,
   "metadata": {},
   "outputs": [
    {
     "name": "stdout",
     "output_type": "stream",
     "text": [
      "mkdir -p /home/dpon/jupy/msp430/gz /home/dpon/jupy/msp430/tmp /home/dpon/jupy/msp430/tmp/src /home/dpon/jupy/msp430/gnu_msp430\n",
      "итого 44\n",
      "drwxr-xr-x  8 dpon dpon 4096 май 29 16:41 .\n",
      "drwxr-xr-x 11 dpon dpon 4096 май 29 17:19 ..\n",
      "-rw-r--r--  1 dpon dpon  724 май 29 15:04 cross.ipynb\n",
      "drwxr-xr-x  2 dpon dpon 4096 май 29 16:40 cross_msp430\n",
      "-rw-r--r--  1 dpon dpon   21 май 29 16:41 .gitignore\n",
      "drwxr-xr-x  2 dpon dpon 4096 май 29 16:41 gnu_msp430\n",
      "drwxr-xr-x  2 dpon dpon 4096 май 29 16:29 gz\n",
      "drwxr-xr-x  2 dpon dpon 4096 май 29 14:41 .ipynb_checkpoints\n",
      "-rw-r--r--  1 dpon dpon  193 май 29 17:20 Makefile\n",
      "drwxr-xr-x  2 dpon dpon 4096 май 29 16:39 msp430\n",
      "drwxr-xr-x  4 dpon dpon 4096 май 29 17:16 tmp\n",
      "итого 16\n",
      "drwxr-xr-x 4 dpon dpon 4096 май 29 17:16 .\n",
      "drwxr-xr-x 8 dpon dpon 4096 май 29 16:41 ..\n",
      "drwxr-xr-x 2 dpon dpon 4096 май 29 17:16 binutils-2.32\n",
      "drwxr-xr-x 3 dpon dpon 4096 май 29 17:09 src\n"
     ]
    }
   ],
   "source": [
    "%%sh\n",
    "cd msp430 ; make dirs ; ls -la ; ls -la tmp"
   ]
  },
  {
   "cell_type": "markdown",
   "metadata": {},
   "source": [
    "## cross-compiler components"
   ]
  },
  {
   "cell_type": "markdown",
   "metadata": {},
   "source": [
    "## versions"
   ]
  },
  {
   "cell_type": "code",
   "execution_count": 244,
   "metadata": {},
   "outputs": [
    {
     "name": "stdout",
     "output_type": "stream",
     "text": [
      "Appending to msp430/Makefile\n"
     ]
    }
   ],
   "source": [
    "%%writefile -a msp430/Makefile\n",
    "\n",
    "BINUTILS_VER = 2.32"
   ]
  },
  {
   "cell_type": "code",
   "execution_count": 245,
   "metadata": {},
   "outputs": [
    {
     "name": "stdout",
     "output_type": "stream",
     "text": [
      "Appending to msp430/Makefile\n"
     ]
    }
   ],
   "source": [
    "%%writefile -a msp430/Makefile\n",
    "\n",
    "BINUTILS = binutils-$(BINUTILS_VER)"
   ]
  },
  {
   "cell_type": "markdown",
   "metadata": {},
   "source": [
    "## predownload all archives"
   ]
  },
  {
   "cell_type": "code",
   "execution_count": 246,
   "metadata": {},
   "outputs": [
    {
     "name": "stdout",
     "output_type": "stream",
     "text": [
      "Appending to msp430/Makefile\n"
     ]
    }
   ],
   "source": [
    "%%writefile -a msp430/Makefile\n",
    "\n",
    "BINUTILS_GZ = $(BINUTILS).tar.xz"
   ]
  },
  {
   "cell_type": "code",
   "execution_count": 247,
   "metadata": {},
   "outputs": [
    {
     "name": "stdout",
     "output_type": "stream",
     "text": [
      "Appending to msp430/Makefile\n"
     ]
    }
   ],
   "source": [
    "%%writefile -a msp430/Makefile\n",
    "\n",
    "WGET = wget -c -P $(GZ) -q\n",
    "\n",
    "gz: $(GZ)/$(BINUTILS_GZ)"
   ]
  },
  {
   "cell_type": "code",
   "execution_count": 248,
   "metadata": {},
   "outputs": [
    {
     "name": "stdout",
     "output_type": "stream",
     "text": [
      "make: Цель «gz» не требует выполнения команд.\n",
      "итого 20296\n",
      "drwxr-xr-x 2 dpon dpon     4096 май 29 16:29 .\n",
      "drwxr-xr-x 8 dpon dpon     4096 май 29 16:41 ..\n",
      "-rw-r--r-- 1 dpon dpon 20774880 фев  2 20:38 binutils-2.32.tar.xz\n"
     ]
    }
   ],
   "source": [
    "%%sh\n",
    "cd msp430 ; make gz ; ls -la gz"
   ]
  },
  {
   "cell_type": "markdown",
   "metadata": {},
   "source": [
    "### archive unpack rules"
   ]
  },
  {
   "cell_type": "code",
   "execution_count": 249,
   "metadata": {},
   "outputs": [
    {
     "name": "stdout",
     "output_type": "stream",
     "text": [
      "Appending to msp430/Makefile\n"
     ]
    }
   ],
   "source": [
    "%%writefile -a msp430/Makefile\n",
    "\n",
    "$(SRC)/%/README: $(GZ)/%.tar.xz\n",
    "\tcd $(SRC) ; xzcat $< | tar -x && touch $@"
   ]
  },
  {
   "cell_type": "markdown",
   "metadata": {},
   "source": [
    "### configure scripts run"
   ]
  },
  {
   "cell_type": "code",
   "execution_count": 250,
   "metadata": {},
   "outputs": [
    {
     "name": "stdout",
     "output_type": "stream",
     "text": [
      "Appending to msp430/Makefile\n"
     ]
    }
   ],
   "source": [
    "%%writefile -a msp430/Makefile\n",
    "\n",
    "CFG = configure --disable-nls"
   ]
  },
  {
   "cell_type": "markdown",
   "metadata": {},
   "source": [
    "### `binutils` : assembler, linker, object file tools"
   ]
  },
  {
   "cell_type": "code",
   "execution_count": 251,
   "metadata": {},
   "outputs": [
    {
     "name": "stdout",
     "output_type": "stream",
     "text": [
      "Appending to msp430/Makefile\n"
     ]
    }
   ],
   "source": [
    "%%writefile -a msp430/Makefile\n",
    "\n",
    "binutils: $(GNU)/bin/$(TARGET)-ld\n",
    "\n",
    "CFG_BINUTILS += --target=$(TARGET)\n",
    "\n",
    "$(GNU)/bin/$(TARGET)-ld: $(GZ)/$(BINUTILS_GZ) $(SRC)/$(BINUTILS)/README\n",
    "\trm -rf $(TMP)/$(BINUTILS) ; mkdir $(TMP)/$(BINUTILS) ; cd $(TMP)/$(BINUTILS) ;\\\n",
    "\t$(SRC)/$(BINUTILS)/$(CFG) $(CFG_BINUTILS)\n",
    "\n",
    "$(GZ)/$(BINUTILS_GZ):\n",
    "\t$(WGET) https://mirror.tochlab.net/pub/gnu/binutils/$(BINUTILS_GZ)"
   ]
  },
  {
   "cell_type": "markdown",
   "metadata": {},
   "source": [
    "after `make` run `configure` will be run with required options:"
   ]
  },
  {
   "cell_type": "markdown",
   "metadata": {},
   "source": [
    "`/home/dpon/jupy/msp430/tmp/src/binutils-2.32/configure --disable-nls --target=msp430`"
   ]
  },
  {
   "cell_type": "markdown",
   "metadata": {},
   "source": [
    "detecting host/target"
   ]
  },
  {
   "cell_type": "markdown",
   "metadata": {},
   "source": [
    "```\n",
    "checking build system type... x86_64-pc-linux-gnu\n",
    "checking host system type... x86_64-pc-linux-gnu\n",
    "checking target system type... msp430-unknown-none\n",
    "```"
   ]
  },
  {
   "cell_type": "markdown",
   "metadata": {},
   "source": [
    "build requires some preinstalled developmen packages:\n",
    " * `sudo apt install`\n",
    "   - `build-essential` `m4` `wget` `make` `gcc g++` `flex` `bison`\n",
    "   - `xz` `bzip2`\n",
    "   - `bc` `libncurses-dev` only for Linux kernel build"
   ]
  },
  {
   "cell_type": "markdown",
   "metadata": {},
   "source": [
    "```\n",
    "checking for gcc... gcc\n",
    "checking for g++... g++\n",
    "checking for bison... bison\n",
    "checking for m4... m4\n",
    "checking for flex... flex\n",
    "```"
   ]
  },
  {
   "cell_type": "code",
   "execution_count": 252,
   "metadata": {},
   "outputs": [
    {
     "name": "stdout",
     "output_type": "stream",
     "text": [
      "rm -rf /home/dpon/jupy/msp430/tmp/binutils-2.32 ; mkdir /home/dpon/jupy/msp430/tmp/binutils-2.32 ; cd /home/dpon/jupy/msp430/tmp/binutils-2.32 ;\\\n",
      "/home/dpon/jupy/msp430/tmp/src/binutils-2.32/configure --disable-nls --target=msp430\n",
      "checking build system type... x86_64-pc-linux-gnu\n",
      "checking host system type... x86_64-pc-linux-gnu\n",
      "checking target system type... msp430-unknown-none\n",
      "checking for a BSD-compatible install... /usr/bin/install -c\n",
      "checking whether ln works... yes\n",
      "checking whether ln -s works... yes\n",
      "checking for a sed that does not truncate output... /bin/sed\n",
      "checking for gawk... gawk\n",
      "checking for gcc... gcc\n",
      "checking whether the C compiler works... yes\n",
      "checking for C compiler default output file name... a.out\n",
      "checking for suffix of executables... \n",
      "checking whether we are cross compiling... no\n",
      "checking for suffix of object files... o\n",
      "checking whether we are using the GNU C compiler... yes\n",
      "checking whether gcc accepts -g... yes\n",
      "checking for gcc option to accept ISO C89... none needed\n",
      "checking for g++... g++\n",
      "checking whether we are using the GNU C++ compiler... yes\n",
      "checking whether g++ accepts -g... yes\n",
      "checking whether g++ accepts -static-libstdc++ -static-libgcc... yes\n",
      "checking for gnatbind... no\n",
      "checking for gnatmake... no\n",
      "checking whether compiler driver understands Ada... no\n",
      "checking how to compare bootstrapped objects... cmp --ignore-initial=16 $$f1 $$f2\n",
      "checking for objdir... .libs\n",
      "checking for isl 0.15 or later... yes\n",
      "checking for default BUILD_CONFIG... \n",
      "checking for --enable-vtable-verify... no\n",
      "checking for bison... bison -y\n",
      "checking for bison... bison\n",
      "checking for gm4... no\n",
      "checking for gnum4... no\n",
      "checking for m4... m4\n",
      "checking for flex... flex\n",
      "checking for flex... flex\n",
      "checking for makeinfo... makeinfo\n",
      "checking for expect... no\n",
      "checking for runtest... no\n",
      "checking for ar... ar\n",
      "checking for as... as\n",
      "checking for dlltool... no\n",
      "checking for ld... ld\n",
      "checking for lipo... no\n",
      "checking for nm... nm\n",
      "checking for ranlib... ranlib\n",
      "checking for strip... strip\n",
      "checking for windres... no\n",
      "checking for windmc... no\n",
      "checking for objcopy... objcopy\n",
      "checking for objdump... objdump\n",
      "checking for readelf... readelf\n",
      "checking for msp430-cc... no\n",
      "checking for msp430-gcc... msp430-gcc\n",
      "checking for msp430-c++... msp430-c++\n",
      "checking for msp430-gcc... msp430-gcc\n",
      "checking for msp430-gfortran... no\n",
      "checking for msp430-gccgo... no\n",
      "checking for msp430-ar... msp430-ar\n",
      "checking for msp430-as... msp430-as\n",
      "checking for msp430-dlltool... no\n",
      "checking for msp430-ld... msp430-ld\n",
      "checking for msp430-lipo... no\n",
      "checking for msp430-nm... msp430-nm\n",
      "checking for msp430-objcopy... msp430-objcopy\n",
      "checking for msp430-objdump... msp430-objdump\n",
      "checking for msp430-ranlib... msp430-ranlib\n",
      "checking for msp430-readelf... msp430-readelf\n",
      "checking for msp430-strip... msp430-strip\n",
      "checking for msp430-windres... no\n",
      "checking for msp430-windmc... no\n",
      "checking where to find the target ar... just compiled\n",
      "checking where to find the target as... just compiled\n",
      "checking where to find the target cc... pre-installed\n",
      "checking where to find the target c++... pre-installed\n",
      "checking where to find the target c++ for libstdc++... pre-installed\n",
      "checking where to find the target dlltool... just compiled\n",
      "checking where to find the target gcc... pre-installed\n",
      "checking where to find the target gfortran... pre-installed\n",
      "checking where to find the target gccgo... pre-installed\n",
      "checking where to find the target ld... just compiled\n",
      "checking where to find the target lipo... pre-installed\n",
      "checking where to find the target nm... just compiled\n",
      "checking where to find the target objcopy... just compiled\n",
      "checking where to find the target objdump... just compiled\n",
      "checking where to find the target ranlib... just compiled\n",
      "checking where to find the target readelf... just compiled\n",
      "checking where to find the target strip... just compiled\n",
      "checking where to find the target windres... just compiled\n",
      "checking where to find the target windmc... just compiled\n",
      "checking whether to enable maintainer-specific portions of Makefiles... no\n",
      "configure: creating ./config.status\n",
      "config.status: creating Makefile\n",
      "gnu_msp430:\n",
      "итого 8\n",
      "drwxr-xr-x 2 dpon dpon 4096 май 29 16:41 .\n",
      "drwxr-xr-x 8 dpon dpon 4096 май 29 16:41 ..\n",
      "\n",
      "tmp:\n",
      "итого 16\n",
      "drwxr-xr-x 4 dpon dpon 4096 май 29 17:20 .\n",
      "drwxr-xr-x 8 dpon dpon 4096 май 29 16:41 ..\n",
      "drwxr-xr-x 2 dpon dpon 4096 май 29 17:20 binutils-2.32\n",
      "drwxr-xr-x 3 dpon dpon 4096 май 29 17:09 src\n",
      "\n",
      "tmp/src:\n",
      "итого 12\n",
      "drwxr-xr-x  3 dpon dpon 4096 май 29 17:09 .\n",
      "drwxr-xr-x  4 dpon dpon 4096 май 29 17:20 ..\n",
      "drwxr-xr-x 18 dpon dpon 4096 май 29 17:10 binutils-2.32\n"
     ]
    }
   ],
   "source": [
    "%%sh\n",
    "cd msp430 ; make binutils ; ls -la tmp/src tmp gnu*"
   ]
  },
  {
   "cell_type": "code",
   "execution_count": null,
   "metadata": {},
   "outputs": [],
   "source": []
  }
 ],
 "metadata": {
  "kernelspec": {
   "display_name": "Python 3",
   "language": "python",
   "name": "python3"
  },
  "language_info": {
   "codemirror_mode": {
    "name": "ipython",
    "version": 3
   },
   "file_extension": ".py",
   "mimetype": "text/x-python",
   "name": "python",
   "nbconvert_exporter": "python",
   "pygments_lexer": "ipython3",
   "version": "3.5.3"
  }
 },
 "nbformat": 4,
 "nbformat_minor": 2
}
