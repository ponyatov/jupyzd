{
 "cells": [
  {
   "cell_type": "markdown",
   "metadata": {},
   "source": [
    "# EDS: Executable Data Structure\n",
    " \n",
    " \n",
    "The EDS approach focuses on implementing a [[homoiconic]] object database \n",
    "which can not only store but also execute some subset of data \n",
    "as executable objects in a database context.\n",
    "\n",
    "This method let as represent knowledge in the form of high-level\n",
    "<i>executable structures</i> via implementing <b>data interpreter</b>\n",
    "or <b>model compiler</b>, and use these forms as a \n",
    "<i>generic computational model</i>. "
   ]
  }
 ],
 "metadata": {
  "kernelspec": {
   "display_name": "Python 3",
   "language": "python",
   "name": "python3"
  },
  "language_info": {
   "codemirror_mode": {
    "name": "ipython",
    "version": 3
   },
   "file_extension": ".py",
   "mimetype": "text/x-python",
   "name": "python",
   "nbconvert_exporter": "python",
   "pygments_lexer": "ipython3",
   "version": "3.5.3"
  }
 },
 "nbformat": 4,
 "nbformat_minor": 2
}
