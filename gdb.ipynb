{
 "cells": [
  {
   "cell_type": "markdown",
   "metadata": {},
   "source": [
    "# GNU gdb interfacing with Jupyter / metaL"
   ]
  },
  {
   "cell_type": "markdown",
   "metadata": {},
   "source": [
    "Here some ideas descibed to interface Jupyter notebooks to a real hardware device:\n",
    "\n",
    "* https://github.com/goatchurchprime/jupyter_micropython_kernel/issues/41\n",
    "* https://towardsdatascience.com/micropython-on-esp-using-jupyter-6f366ff5ed9\n",
    "* https://github.com/goatchurchprime/jupyter_micropython_kernel"
   ]
  },
  {
   "cell_type": "markdown",
   "metadata": {},
   "source": [
    "Modern [gdb](gdb.ipynb) versions have `--enable--python` option which included Python interpreter into the debugger for any target processor/MCU. This option looks me much better to embed [gdb](gdb.ipynb) interface into Jython, as we'll have a portable way to interact directly with hardware using any mainstream i/o interfaces like J-Link, ST-Link,.. or any UART/USB/ETH coupled with [gdb](gdb.ipynb) stub on the device."
   ]
  },
  {
   "cell_type": "markdown",
   "metadata": {},
   "source": [
    "Factically, we can even write the firmware model without the use of any C code, as all MCU i/o mapped to a memory address space, and we need only small interrupt handling code and a sort of generic i/o gateway written in C."
   ]
  },
  {
   "cell_type": "markdown",
   "metadata": {},
   "source": [
    "Also, we can wrap cross-LLVM library built into Jupyter session, and play with dynamic compilation. It will be notable complex comparing to C programming, but Python can be used as a core for the interactive compiler by calling LLVM and rewriting parts of machine code on a hardware device."
   ]
  }
 ],
 "metadata": {
  "kernelspec": {
   "display_name": "Python 3",
   "language": "python",
   "name": "python3"
  },
  "language_info": {
   "codemirror_mode": {
    "name": "ipython",
    "version": 3
   },
   "file_extension": ".py",
   "mimetype": "text/x-python",
   "name": "python",
   "nbconvert_exporter": "python",
   "pygments_lexer": "ipython3",
   "version": "3.5.3"
  }
 },
 "nbformat": 4,
 "nbformat_minor": 2
}
